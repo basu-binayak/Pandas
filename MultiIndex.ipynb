{
 "cells": [
  {
   "cell_type": "markdown",
   "id": "d4be221c",
   "metadata": {},
   "source": [
    "# MultiIndexing (a.k.a Hierarchical Indexing)\n",
    "\n",
    "A MultiIndex (a.k.a. Hierarchical Index) allows us to have multiple levels of indexing on a Series or DataFrame. Instead of having just one row or column label, you can have multiple labels per axis - making it possible to store and work with high-dimensional data in a 2D structure."
   ]
  },
  {
   "cell_type": "markdown",
   "id": "dcb4f3a7",
   "metadata": {},
   "source": [
    "## Create a MultiIndex Series "
   ]
  },
  {
   "cell_type": "code",
   "execution_count": 1,
   "id": "b80894ad",
   "metadata": {},
   "outputs": [],
   "source": [
    "import pandas as pd \n",
    "import numpy as np"
   ]
  },
  {
   "cell_type": "code",
   "execution_count": null,
   "id": "1baa054f",
   "metadata": {},
   "outputs": [
    {
     "data": {
      "text/plain": [
       "(USA, New York)        100\n",
       "(USA, Los Angeles)     200\n",
       "(Canada, Toronto)      150\n",
       "(Canada, Vancouver)    170\n",
       "dtype: int64"
      ]
     },
     "execution_count": 2,
     "metadata": {},
     "output_type": "execute_result"
    }
   ],
   "source": [
    "index = [\n",
    "    # a list of tuples \n",
    "    ('USA', 'New York'),\n",
    "    ('USA', 'Los Angeles'),\n",
    "    ('Canada', 'Toronto'),\n",
    "    ('Canada', 'Vancouver')\n",
    "]\n",
    "\n",
    "sales = pd.Series([100, 200, 150, 170], index=index)\n",
    "sales"
   ]
  },
  {
   "cell_type": "markdown",
   "id": "c26f4e35",
   "metadata": {},
   "source": [
    "This is not the preferred way - instead we should do a MultiIndexing !"
   ]
  },
  {
   "cell_type": "code",
   "execution_count": 4,
   "id": "e16c35c7",
   "metadata": {},
   "outputs": [
    {
     "data": {
      "text/plain": [
       "Country  City       \n",
       "USA      New York       100\n",
       "         Los Angeles    200\n",
       "Canada   Toronto        150\n",
       "         Vancouver      170\n",
       "dtype: int64"
      ]
     },
     "execution_count": 4,
     "metadata": {},
     "output_type": "execute_result"
    }
   ],
   "source": [
    "index = pd.MultiIndex.from_tuples(index, names=['Country', 'City'])\n",
    "sales = sales.reindex(index)\n",
    "sales"
   ]
  },
  {
   "cell_type": "markdown",
   "id": "b9cd3e41",
   "metadata": {},
   "source": [
    "## Create a MultIndex DataFrame"
   ]
  },
  {
   "cell_type": "code",
   "execution_count": 9,
   "id": "491ad0a8",
   "metadata": {},
   "outputs": [
    {
     "data": {
      "text/html": [
       "<div>\n",
       "<style scoped>\n",
       "    .dataframe tbody tr th:only-of-type {\n",
       "        vertical-align: middle;\n",
       "    }\n",
       "\n",
       "    .dataframe tbody tr th {\n",
       "        vertical-align: top;\n",
       "    }\n",
       "\n",
       "    .dataframe thead tr th {\n",
       "        text-align: left;\n",
       "    }\n",
       "</style>\n",
       "<table border=\"1\" class=\"dataframe\">\n",
       "  <thead>\n",
       "    <tr>\n",
       "      <th>Category</th>\n",
       "      <th colspan=\"2\" halign=\"left\">Electronics</th>\n",
       "      <th colspan=\"2\" halign=\"left\">Clothing</th>\n",
       "    </tr>\n",
       "    <tr>\n",
       "      <th>Quarter</th>\n",
       "      <th>Q1</th>\n",
       "      <th>Q2</th>\n",
       "      <th>Q1</th>\n",
       "      <th>Q2</th>\n",
       "    </tr>\n",
       "  </thead>\n",
       "  <tbody>\n",
       "    <tr>\n",
       "      <th>Store A</th>\n",
       "      <td>2000</td>\n",
       "      <td>2500</td>\n",
       "      <td>1500</td>\n",
       "      <td>1800</td>\n",
       "    </tr>\n",
       "    <tr>\n",
       "      <th>Store B</th>\n",
       "      <td>2200</td>\n",
       "      <td>2600</td>\n",
       "      <td>1400</td>\n",
       "      <td>1600</td>\n",
       "    </tr>\n",
       "  </tbody>\n",
       "</table>\n",
       "</div>"
      ],
      "text/plain": [
       "Category Electronics       Clothing      \n",
       "Quarter           Q1    Q2       Q1    Q2\n",
       "Store A         2000  2500     1500  1800\n",
       "Store B         2200  2600     1400  1600"
      ]
     },
     "execution_count": 9,
     "metadata": {},
     "output_type": "execute_result"
    }
   ],
   "source": [
    "arrays = [\n",
    "    # a list of lists \n",
    "    ['Electronics', 'Electronics', 'Clothing', 'Clothing'],\n",
    "    ['Q1', 'Q2', 'Q1', 'Q2']\n",
    "]\n",
    "\n",
    "columns = pd.MultiIndex.from_arrays(arrays, names=[\"Category\", \"Quarter\",])\n",
    "\n",
    "data = [\n",
    "    [2000, 2500, 1500, 1800],  # Store A\n",
    "    [2200, 2600, 1400, 1600]   # Store B\n",
    "]\n",
    "\n",
    "df_1= pd.DataFrame(data, columns=columns, index=['Store A', 'Store B'])\n",
    "df_1"
   ]
  },
  {
   "cell_type": "code",
   "execution_count": 8,
   "id": "77fdc761",
   "metadata": {},
   "outputs": [
    {
     "data": {
      "text/html": [
       "<div>\n",
       "<style scoped>\n",
       "    .dataframe tbody tr th:only-of-type {\n",
       "        vertical-align: middle;\n",
       "    }\n",
       "\n",
       "    .dataframe tbody tr th {\n",
       "        vertical-align: top;\n",
       "    }\n",
       "\n",
       "    .dataframe thead th {\n",
       "        text-align: right;\n",
       "    }\n",
       "</style>\n",
       "<table border=\"1\" class=\"dataframe\">\n",
       "  <thead>\n",
       "    <tr style=\"text-align: right;\">\n",
       "      <th></th>\n",
       "      <th></th>\n",
       "      <th>Population</th>\n",
       "    </tr>\n",
       "    <tr>\n",
       "      <th>Continent</th>\n",
       "      <th>Country</th>\n",
       "      <th></th>\n",
       "    </tr>\n",
       "  </thead>\n",
       "  <tbody>\n",
       "    <tr>\n",
       "      <th rowspan=\"2\" valign=\"top\">Asia</th>\n",
       "      <th>India</th>\n",
       "      <td>1.40</td>\n",
       "    </tr>\n",
       "    <tr>\n",
       "      <th>China</th>\n",
       "      <td>1.30</td>\n",
       "    </tr>\n",
       "    <tr>\n",
       "      <th rowspan=\"2\" valign=\"top\">Europe</th>\n",
       "      <th>France</th>\n",
       "      <td>0.07</td>\n",
       "    </tr>\n",
       "    <tr>\n",
       "      <th>Germany</th>\n",
       "      <td>0.08</td>\n",
       "    </tr>\n",
       "  </tbody>\n",
       "</table>\n",
       "</div>"
      ],
      "text/plain": [
       "                   Population\n",
       "Continent Country            \n",
       "Asia      India          1.40\n",
       "          China          1.30\n",
       "Europe    France         0.07\n",
       "          Germany        0.08"
      ]
     },
     "execution_count": 8,
     "metadata": {},
     "output_type": "execute_result"
    }
   ],
   "source": [
    "arrays = [\n",
    "    ['Asia', 'Asia', 'Europe', 'Europe'],\n",
    "    ['India', 'China', 'France', 'Germany']\n",
    "]\n",
    "\n",
    "index = pd.MultiIndex.from_arrays(arrays, names=('Continent', 'Country'))\n",
    "df_2 = pd.DataFrame({'Population': [1.4, 1.3, 0.07, 0.08]}, index=index)\n",
    "\n",
    "df_2"
   ]
  },
  {
   "cell_type": "markdown",
   "id": "6788e176",
   "metadata": {},
   "source": [
    "## Indexing and Slicing in MultiIndex"
   ]
  },
  {
   "cell_type": "code",
   "execution_count": null,
   "id": "71412890",
   "metadata": {},
   "outputs": [
    {
     "data": {
      "text/plain": [
       "Population    1.4\n",
       "Name: (Asia, India), dtype: float64"
      ]
     },
     "execution_count": 31,
     "metadata": {},
     "output_type": "execute_result"
    }
   ],
   "source": [
    "# direct access using .loc[]\n",
    "df_2.loc[('Asia', 'India')] # You must provide a tuple for hierarchical levels.\n",
    "\n",
    "# same as df_2.loc[('Asia', 'India'),:]"
   ]
  },
  {
   "cell_type": "code",
   "execution_count": null,
   "id": "367436ce",
   "metadata": {},
   "outputs": [
    {
     "data": {
      "text/html": [
       "<div>\n",
       "<style scoped>\n",
       "    .dataframe tbody tr th:only-of-type {\n",
       "        vertical-align: middle;\n",
       "    }\n",
       "\n",
       "    .dataframe tbody tr th {\n",
       "        vertical-align: top;\n",
       "    }\n",
       "\n",
       "    .dataframe thead th {\n",
       "        text-align: right;\n",
       "    }\n",
       "</style>\n",
       "<table border=\"1\" class=\"dataframe\">\n",
       "  <thead>\n",
       "    <tr style=\"text-align: right;\">\n",
       "      <th></th>\n",
       "      <th>Population</th>\n",
       "    </tr>\n",
       "    <tr>\n",
       "      <th>Country</th>\n",
       "      <th></th>\n",
       "    </tr>\n",
       "  </thead>\n",
       "  <tbody>\n",
       "    <tr>\n",
       "      <th>China</th>\n",
       "      <td>1.3</td>\n",
       "    </tr>\n",
       "    <tr>\n",
       "      <th>India</th>\n",
       "      <td>1.4</td>\n",
       "    </tr>\n",
       "  </tbody>\n",
       "</table>\n",
       "</div>"
      ],
      "text/plain": [
       "         Population\n",
       "Country            \n",
       "China           1.3\n",
       "India           1.4"
      ]
     },
     "execution_count": 33,
     "metadata": {},
     "output_type": "execute_result"
    }
   ],
   "source": [
    "# partial Indexing \n",
    "df_2.loc['Asia'] # same as f_2.lpc['Asia',:]"
   ]
  },
  {
   "cell_type": "code",
   "execution_count": 12,
   "id": "9183b992",
   "metadata": {},
   "outputs": [
    {
     "data": {
      "text/html": [
       "<div>\n",
       "<style scoped>\n",
       "    .dataframe tbody tr th:only-of-type {\n",
       "        vertical-align: middle;\n",
       "    }\n",
       "\n",
       "    .dataframe tbody tr th {\n",
       "        vertical-align: top;\n",
       "    }\n",
       "\n",
       "    .dataframe thead th {\n",
       "        text-align: right;\n",
       "    }\n",
       "</style>\n",
       "<table border=\"1\" class=\"dataframe\">\n",
       "  <thead>\n",
       "    <tr style=\"text-align: right;\">\n",
       "      <th></th>\n",
       "      <th>Population</th>\n",
       "    </tr>\n",
       "    <tr>\n",
       "      <th>Country</th>\n",
       "      <th></th>\n",
       "    </tr>\n",
       "  </thead>\n",
       "  <tbody>\n",
       "    <tr>\n",
       "      <th>India</th>\n",
       "      <td>1.4</td>\n",
       "    </tr>\n",
       "    <tr>\n",
       "      <th>China</th>\n",
       "      <td>1.3</td>\n",
       "    </tr>\n",
       "  </tbody>\n",
       "</table>\n",
       "</div>"
      ],
      "text/plain": [
       "         Population\n",
       "Country            \n",
       "India           1.4\n",
       "China           1.3"
      ]
     },
     "execution_count": 12,
     "metadata": {},
     "output_type": "execute_result"
    }
   ],
   "source": [
    "# Slicing \n",
    "df_2.loc[('Asia', slice(None))]"
   ]
  },
  {
   "cell_type": "markdown",
   "id": "06c50b07",
   "metadata": {},
   "source": [
    "| Method                                            | Includes `('Asia', 'India')`? | Why                                 |\n",
    "| ------------------------------------------------- | ----------------------------- | ----------------------------------- |\n",
    "| `df.loc[idx['Asia':'Europe', 'China':'Germany']]` | ❌                             | Slices each level independently     |\n",
    "| `df.loc[('Asia', 'China'):('Europe', 'Germany')]` | ✅                             | Lexicographical slice of full tuple |\n"
   ]
  },
  {
   "cell_type": "code",
   "execution_count": 34,
   "id": "94aaf710",
   "metadata": {},
   "outputs": [
    {
     "data": {
      "text/html": [
       "<div>\n",
       "<style scoped>\n",
       "    .dataframe tbody tr th:only-of-type {\n",
       "        vertical-align: middle;\n",
       "    }\n",
       "\n",
       "    .dataframe tbody tr th {\n",
       "        vertical-align: top;\n",
       "    }\n",
       "\n",
       "    .dataframe thead th {\n",
       "        text-align: right;\n",
       "    }\n",
       "</style>\n",
       "<table border=\"1\" class=\"dataframe\">\n",
       "  <thead>\n",
       "    <tr style=\"text-align: right;\">\n",
       "      <th></th>\n",
       "      <th></th>\n",
       "      <th>Population</th>\n",
       "    </tr>\n",
       "    <tr>\n",
       "      <th>Continent</th>\n",
       "      <th>Country</th>\n",
       "      <th></th>\n",
       "    </tr>\n",
       "  </thead>\n",
       "  <tbody>\n",
       "    <tr>\n",
       "      <th rowspan=\"2\" valign=\"top\">Asia</th>\n",
       "      <th>China</th>\n",
       "      <td>1.30</td>\n",
       "    </tr>\n",
       "    <tr>\n",
       "      <th>India</th>\n",
       "      <td>1.40</td>\n",
       "    </tr>\n",
       "    <tr>\n",
       "      <th rowspan=\"2\" valign=\"top\">Europe</th>\n",
       "      <th>France</th>\n",
       "      <td>0.07</td>\n",
       "    </tr>\n",
       "    <tr>\n",
       "      <th>Germany</th>\n",
       "      <td>0.08</td>\n",
       "    </tr>\n",
       "  </tbody>\n",
       "</table>\n",
       "</div>"
      ],
      "text/plain": [
       "                   Population\n",
       "Continent Country            \n",
       "Asia      China          1.30\n",
       "          India          1.40\n",
       "Europe    France         0.07\n",
       "          Germany        0.08"
      ]
     },
     "execution_count": 34,
     "metadata": {},
     "output_type": "execute_result"
    }
   ],
   "source": [
    "df_2_sorted = df_2.sort_index()\n",
    "df_2_sorted.loc[('Asia','China') : ('Europe','Germany'),:]"
   ]
  },
  {
   "cell_type": "code",
   "execution_count": 35,
   "id": "f05f8c39",
   "metadata": {},
   "outputs": [
    {
     "data": {
      "text/html": [
       "<div>\n",
       "<style scoped>\n",
       "    .dataframe tbody tr th:only-of-type {\n",
       "        vertical-align: middle;\n",
       "    }\n",
       "\n",
       "    .dataframe tbody tr th {\n",
       "        vertical-align: top;\n",
       "    }\n",
       "\n",
       "    .dataframe thead th {\n",
       "        text-align: right;\n",
       "    }\n",
       "</style>\n",
       "<table border=\"1\" class=\"dataframe\">\n",
       "  <thead>\n",
       "    <tr style=\"text-align: right;\">\n",
       "      <th></th>\n",
       "      <th></th>\n",
       "      <th>Population</th>\n",
       "    </tr>\n",
       "    <tr>\n",
       "      <th>Continent</th>\n",
       "      <th>Country</th>\n",
       "      <th></th>\n",
       "    </tr>\n",
       "  </thead>\n",
       "  <tbody>\n",
       "    <tr>\n",
       "      <th>Asia</th>\n",
       "      <th>China</th>\n",
       "      <td>1.30</td>\n",
       "    </tr>\n",
       "    <tr>\n",
       "      <th rowspan=\"2\" valign=\"top\">Europe</th>\n",
       "      <th>France</th>\n",
       "      <td>0.07</td>\n",
       "    </tr>\n",
       "    <tr>\n",
       "      <th>Germany</th>\n",
       "      <td>0.08</td>\n",
       "    </tr>\n",
       "  </tbody>\n",
       "</table>\n",
       "</div>"
      ],
      "text/plain": [
       "                   Population\n",
       "Continent Country            \n",
       "Asia      China          1.30\n",
       "Europe    France         0.07\n",
       "          Germany        0.08"
      ]
     },
     "execution_count": 35,
     "metadata": {},
     "output_type": "execute_result"
    }
   ],
   "source": [
    "# select a range \n",
    "idx = pd.IndexSlice\n",
    "df_2_sorted.loc[idx['Asia':'Europe', 'China':'Germany'], :]"
   ]
  },
  {
   "cell_type": "code",
   "execution_count": 30,
   "id": "c4fb01c2",
   "metadata": {},
   "outputs": [
    {
     "data": {
      "text/html": [
       "<div>\n",
       "<style scoped>\n",
       "    .dataframe tbody tr th:only-of-type {\n",
       "        vertical-align: middle;\n",
       "    }\n",
       "\n",
       "    .dataframe tbody tr th {\n",
       "        vertical-align: top;\n",
       "    }\n",
       "\n",
       "    .dataframe thead th {\n",
       "        text-align: right;\n",
       "    }\n",
       "</style>\n",
       "<table border=\"1\" class=\"dataframe\">\n",
       "  <thead>\n",
       "    <tr style=\"text-align: right;\">\n",
       "      <th></th>\n",
       "      <th></th>\n",
       "      <th>Population</th>\n",
       "    </tr>\n",
       "    <tr>\n",
       "      <th>Continent</th>\n",
       "      <th>Country</th>\n",
       "      <th></th>\n",
       "    </tr>\n",
       "  </thead>\n",
       "  <tbody>\n",
       "    <tr>\n",
       "      <th rowspan=\"2\" valign=\"top\">Asia</th>\n",
       "      <th>China</th>\n",
       "      <td>1.30</td>\n",
       "    </tr>\n",
       "    <tr>\n",
       "      <th>India</th>\n",
       "      <td>1.40</td>\n",
       "    </tr>\n",
       "    <tr>\n",
       "      <th>Europe</th>\n",
       "      <th>France</th>\n",
       "      <td>0.07</td>\n",
       "    </tr>\n",
       "  </tbody>\n",
       "</table>\n",
       "</div>"
      ],
      "text/plain": [
       "                   Population\n",
       "Continent Country            \n",
       "Asia      China          1.30\n",
       "          India          1.40\n",
       "Europe    France         0.07"
      ]
     },
     "execution_count": 30,
     "metadata": {},
     "output_type": "execute_result"
    }
   ],
   "source": [
    "df_sorted = df_2.sort_index()\n",
    "df_sorted.loc[('Asia', 'China'):('Europe', 'France')]"
   ]
  },
  {
   "cell_type": "markdown",
   "id": "2b1f31e0",
   "metadata": {},
   "source": [
    "### 🔍 Question:\n",
    "\n",
    "> If `'India'` comes after `'China'`, and I’m slicing from `'China'` to `'Germany'`, **shouldn't `'India'` be included**?\n",
    "\n",
    "---\n",
    "\n",
    "### 🧠 Lexicographic Ordering in Action\n",
    "\n",
    "Imagine the tuples arranged as a list:\n",
    "\n",
    "```python\n",
    "[\n",
    "  ('Asia', 'China'),   ✅ START\n",
    "  ('Asia', 'India'),   ✅ falls within range!\n",
    "  ('Europe', 'France'),\n",
    "  ('Europe', 'Germany') ✅ END\n",
    "]\n",
    "```\n",
    "\n",
    "Looks like it should include `('Asia', 'India')`, right?\n",
    "\n",
    "> **Yes — if** you wrote the slicing as:\n",
    "> `df.loc[idx[('Asia', 'China'):('Europe', 'Germany')]]`\n",
    "> (a tuple range instead of level-wise slicing)\n",
    "\n",
    "---\n",
    "\n",
    "#### ❗But you did this instead:\n",
    "\n",
    "```python\n",
    "df.loc[idx['Asia':'Europe', 'China':'Germany']]\n",
    "```\n",
    "\n",
    "And this is **NOT** a slice from tuple `('Asia', 'China')` to `('Europe', 'Germany')`.\n",
    "\n",
    "Instead, it's interpreted as:\n",
    "\n",
    "* For **level 0**: `'Asia'` to `'Europe'`\n",
    "* For **level 1**: `'China'` to `'Germany'`\n",
    "\n",
    "But the slicing happens **within each level**, not across the full tuple directly.\n",
    "\n",
    "So here’s what Pandas does:\n",
    "\n",
    "| Level 0 (Continent) | Level 1 (Country) | Keep? | Why                                      |\n",
    "| ------------------- | ----------------- | ----- | ---------------------------------------- |\n",
    "| Asia                | China             | ✅     | Within slice                             |\n",
    "| Asia                | India             | ❌     | `'India'` is outside `'China':'Germany'` |\n",
    "| Europe              | France            | ✅     | Within slice                             |\n",
    "| Europe              | Germany           | ✅     | Within slice                             |\n",
    "\n",
    "⚠️ The condition is: **Continent must be in `'Asia':'Europe'` AND Country in `'China':'Germany'`**, **independently**.\n",
    "\n",
    "`'India'` is outside `'China':'Germany'` alphabetically, so it’s excluded.\n",
    "\n",
    "---\n",
    "\n",
    "### ✅ If You Want `'Asia', 'India'` Included\n",
    "\n",
    "You should slice the **tuples**, not levels:\n",
    "\n",
    "```python\n",
    "df_sorted = df.sort_index()\n",
    "df_sorted.loc[('Asia', 'China'):('Europe', 'Germany')]\n",
    "```\n",
    "\n",
    "Now you’ll get:\n",
    "\n",
    "```\n",
    "                     Population\n",
    "Continent Country             \n",
    "Asia      China            1.30\n",
    "          India            1.40\n",
    "Europe    France           0.07\n",
    "          Germany          0.08\n",
    "```\n",
    "\n",
    "✅ **Boom! `'India'` is included.**\n",
    "\n",
    "---\n",
    "\n",
    "### 🧾 Summary\n",
    "\n",
    "| Method                                            | Includes `('Asia', 'India')`? | Why                                 |\n",
    "| ------------------------------------------------- | ----------------------------- | ----------------------------------- |\n",
    "| `df.loc[idx['Asia':'Europe', 'China':'Germany']]` | ❌                             | Slices each level independently     |\n",
    "| `df.loc[('Asia', 'China'):('Europe', 'Germany')]` | ✅                             | Lexicographical slice of full tuple |\n",
    "\n",
    "---\n",
    "\n",
    "### 🧠 Takeaway\n",
    "\n",
    "> If you want to slice using **tuples**, use `df.loc[start_tuple:end_tuple]` after sorting the index.\n",
    "\n",
    "> If you slice **level by level** using `IndexSlice`, remember: each level is sliced **independently**, and this may cause unexpected exclusions.\n",
    "\n",
    "---"
   ]
  },
  {
   "cell_type": "markdown",
   "id": "d9f39af5",
   "metadata": {},
   "source": [
    "### Column Indexing with MultiIndex Columns"
   ]
  },
  {
   "cell_type": "code",
   "execution_count": 36,
   "id": "c2c6c093",
   "metadata": {},
   "outputs": [
    {
     "data": {
      "text/html": [
       "<div>\n",
       "<style scoped>\n",
       "    .dataframe tbody tr th:only-of-type {\n",
       "        vertical-align: middle;\n",
       "    }\n",
       "\n",
       "    .dataframe tbody tr th {\n",
       "        vertical-align: top;\n",
       "    }\n",
       "\n",
       "    .dataframe thead tr th {\n",
       "        text-align: left;\n",
       "    }\n",
       "</style>\n",
       "<table border=\"1\" class=\"dataframe\">\n",
       "  <thead>\n",
       "    <tr>\n",
       "      <th></th>\n",
       "      <th colspan=\"2\" halign=\"left\">Sales</th>\n",
       "      <th colspan=\"2\" halign=\"left\">Profit</th>\n",
       "    </tr>\n",
       "    <tr>\n",
       "      <th></th>\n",
       "      <th>Q1</th>\n",
       "      <th>Q2</th>\n",
       "      <th>Q1</th>\n",
       "      <th>Q2</th>\n",
       "    </tr>\n",
       "  </thead>\n",
       "  <tbody>\n",
       "    <tr>\n",
       "      <th>Product A</th>\n",
       "      <td>100</td>\n",
       "      <td>150</td>\n",
       "      <td>10</td>\n",
       "      <td>15</td>\n",
       "    </tr>\n",
       "    <tr>\n",
       "      <th>Product B</th>\n",
       "      <td>200</td>\n",
       "      <td>250</td>\n",
       "      <td>20</td>\n",
       "      <td>25</td>\n",
       "    </tr>\n",
       "  </tbody>\n",
       "</table>\n",
       "</div>"
      ],
      "text/plain": [
       "          Sales      Profit    \n",
       "             Q1   Q2     Q1  Q2\n",
       "Product A   100  150     10  15\n",
       "Product B   200  250     20  25"
      ]
     },
     "execution_count": 36,
     "metadata": {},
     "output_type": "execute_result"
    }
   ],
   "source": [
    "columns = pd.MultiIndex.from_tuples([\n",
    "    ('Sales', 'Q1'), ('Sales', 'Q2'),\n",
    "    ('Profit', 'Q1'), ('Profit', 'Q2')\n",
    "])\n",
    "\n",
    "df = pd.DataFrame(\n",
    "    [[100, 150, 10, 15], [200, 250, 20, 25]],\n",
    "    columns=columns,\n",
    "    index=['Product A', 'Product B']\n",
    ")\n",
    "\n",
    "df"
   ]
  },
  {
   "cell_type": "code",
   "execution_count": 37,
   "id": "84b35d27",
   "metadata": {},
   "outputs": [
    {
     "data": {
      "text/html": [
       "<div>\n",
       "<style scoped>\n",
       "    .dataframe tbody tr th:only-of-type {\n",
       "        vertical-align: middle;\n",
       "    }\n",
       "\n",
       "    .dataframe tbody tr th {\n",
       "        vertical-align: top;\n",
       "    }\n",
       "\n",
       "    .dataframe thead th {\n",
       "        text-align: right;\n",
       "    }\n",
       "</style>\n",
       "<table border=\"1\" class=\"dataframe\">\n",
       "  <thead>\n",
       "    <tr style=\"text-align: right;\">\n",
       "      <th></th>\n",
       "      <th>Q1</th>\n",
       "      <th>Q2</th>\n",
       "    </tr>\n",
       "  </thead>\n",
       "  <tbody>\n",
       "    <tr>\n",
       "      <th>Product A</th>\n",
       "      <td>100</td>\n",
       "      <td>150</td>\n",
       "    </tr>\n",
       "    <tr>\n",
       "      <th>Product B</th>\n",
       "      <td>200</td>\n",
       "      <td>250</td>\n",
       "    </tr>\n",
       "  </tbody>\n",
       "</table>\n",
       "</div>"
      ],
      "text/plain": [
       "            Q1   Q2\n",
       "Product A  100  150\n",
       "Product B  200  250"
      ]
     },
     "execution_count": 37,
     "metadata": {},
     "output_type": "execute_result"
    }
   ],
   "source": [
    "# 🎯 Accessing a full level:\n",
    "df['Sales']"
   ]
  },
  {
   "cell_type": "code",
   "execution_count": null,
   "id": "9404367a",
   "metadata": {},
   "outputs": [
    {
     "data": {
      "text/html": [
       "<div>\n",
       "<style scoped>\n",
       "    .dataframe tbody tr th:only-of-type {\n",
       "        vertical-align: middle;\n",
       "    }\n",
       "\n",
       "    .dataframe tbody tr th {\n",
       "        vertical-align: top;\n",
       "    }\n",
       "\n",
       "    .dataframe thead th {\n",
       "        text-align: right;\n",
       "    }\n",
       "</style>\n",
       "<table border=\"1\" class=\"dataframe\">\n",
       "  <thead>\n",
       "    <tr style=\"text-align: right;\">\n",
       "      <th></th>\n",
       "      <th>Q1</th>\n",
       "      <th>Q2</th>\n",
       "    </tr>\n",
       "  </thead>\n",
       "  <tbody>\n",
       "    <tr>\n",
       "      <th>Product A</th>\n",
       "      <td>100</td>\n",
       "      <td>150</td>\n",
       "    </tr>\n",
       "    <tr>\n",
       "      <th>Product B</th>\n",
       "      <td>200</td>\n",
       "      <td>250</td>\n",
       "    </tr>\n",
       "  </tbody>\n",
       "</table>\n",
       "</div>"
      ],
      "text/plain": [
       "            Q1   Q2\n",
       "Product A  100  150\n",
       "Product B  200  250"
      ]
     },
     "execution_count": 49,
     "metadata": {},
     "output_type": "execute_result"
    }
   ],
   "source": [
    "df.loc[:,'Sales'] # same as above "
   ]
  },
  {
   "cell_type": "code",
   "execution_count": 39,
   "id": "f7582edb",
   "metadata": {},
   "outputs": [
    {
     "data": {
      "text/plain": [
       "np.int64(100)"
      ]
     },
     "execution_count": 39,
     "metadata": {},
     "output_type": "execute_result"
    }
   ],
   "source": [
    "# 🔍 Accessing a specific cell:\n",
    "df.loc['Product A', ('Sales', 'Q1')]"
   ]
  },
  {
   "cell_type": "code",
   "execution_count": null,
   "id": "c8431a42",
   "metadata": {},
   "outputs": [
    {
     "data": {
      "text/html": [
       "<div>\n",
       "<style scoped>\n",
       "    .dataframe tbody tr th:only-of-type {\n",
       "        vertical-align: middle;\n",
       "    }\n",
       "\n",
       "    .dataframe tbody tr th {\n",
       "        vertical-align: top;\n",
       "    }\n",
       "\n",
       "    .dataframe thead tr th {\n",
       "        text-align: left;\n",
       "    }\n",
       "</style>\n",
       "<table border=\"1\" class=\"dataframe\">\n",
       "  <thead>\n",
       "    <tr>\n",
       "      <th></th>\n",
       "      <th colspan=\"2\" halign=\"left\">Sales</th>\n",
       "    </tr>\n",
       "    <tr>\n",
       "      <th></th>\n",
       "      <th>Q1</th>\n",
       "      <th>Q2</th>\n",
       "    </tr>\n",
       "  </thead>\n",
       "  <tbody>\n",
       "    <tr>\n",
       "      <th>Product A</th>\n",
       "      <td>100</td>\n",
       "      <td>150</td>\n",
       "    </tr>\n",
       "    <tr>\n",
       "      <th>Product B</th>\n",
       "      <td>200</td>\n",
       "      <td>250</td>\n",
       "    </tr>\n",
       "  </tbody>\n",
       "</table>\n",
       "</div>"
      ],
      "text/plain": [
       "          Sales     \n",
       "             Q1   Q2\n",
       "Product A   100  150\n",
       "Product B   200  250"
      ]
     },
     "execution_count": 48,
     "metadata": {},
     "output_type": "execute_result"
    }
   ],
   "source": [
    "# slicing \n",
    "df.loc[:, ('Sales', slice(None))]"
   ]
  },
  {
   "cell_type": "code",
   "execution_count": 56,
   "id": "a63fd196",
   "metadata": {},
   "outputs": [
    {
     "data": {
      "text/html": [
       "<div>\n",
       "<style scoped>\n",
       "    .dataframe tbody tr th:only-of-type {\n",
       "        vertical-align: middle;\n",
       "    }\n",
       "\n",
       "    .dataframe tbody tr th {\n",
       "        vertical-align: top;\n",
       "    }\n",
       "\n",
       "    .dataframe thead th {\n",
       "        text-align: right;\n",
       "    }\n",
       "</style>\n",
       "<table border=\"1\" class=\"dataframe\">\n",
       "  <thead>\n",
       "    <tr style=\"text-align: right;\">\n",
       "      <th></th>\n",
       "      <th></th>\n",
       "      <th>Population</th>\n",
       "    </tr>\n",
       "    <tr>\n",
       "      <th>Continent</th>\n",
       "      <th>Country</th>\n",
       "      <th></th>\n",
       "    </tr>\n",
       "  </thead>\n",
       "  <tbody>\n",
       "    <tr>\n",
       "      <th rowspan=\"2\" valign=\"top\">Asia</th>\n",
       "      <th>China</th>\n",
       "      <td>1.30</td>\n",
       "    </tr>\n",
       "    <tr>\n",
       "      <th>India</th>\n",
       "      <td>1.40</td>\n",
       "    </tr>\n",
       "    <tr>\n",
       "      <th rowspan=\"2\" valign=\"top\">Europe</th>\n",
       "      <th>France</th>\n",
       "      <td>0.07</td>\n",
       "    </tr>\n",
       "    <tr>\n",
       "      <th>Germany</th>\n",
       "      <td>0.08</td>\n",
       "    </tr>\n",
       "  </tbody>\n",
       "</table>\n",
       "</div>"
      ],
      "text/plain": [
       "                   Population\n",
       "Continent Country            \n",
       "Asia      China          1.30\n",
       "          India          1.40\n",
       "Europe    France         0.07\n",
       "          Germany        0.08"
      ]
     },
     "execution_count": 56,
     "metadata": {},
     "output_type": "execute_result"
    }
   ],
   "source": [
    "# boolean masking \n",
    "df_2"
   ]
  },
  {
   "cell_type": "code",
   "execution_count": 58,
   "id": "6bbbea39",
   "metadata": {},
   "outputs": [
    {
     "data": {
      "text/html": [
       "<div>\n",
       "<style scoped>\n",
       "    .dataframe tbody tr th:only-of-type {\n",
       "        vertical-align: middle;\n",
       "    }\n",
       "\n",
       "    .dataframe tbody tr th {\n",
       "        vertical-align: top;\n",
       "    }\n",
       "\n",
       "    .dataframe thead th {\n",
       "        text-align: right;\n",
       "    }\n",
       "</style>\n",
       "<table border=\"1\" class=\"dataframe\">\n",
       "  <thead>\n",
       "    <tr style=\"text-align: right;\">\n",
       "      <th></th>\n",
       "      <th></th>\n",
       "      <th>Population</th>\n",
       "    </tr>\n",
       "    <tr>\n",
       "      <th>Continent</th>\n",
       "      <th>Country</th>\n",
       "      <th></th>\n",
       "    </tr>\n",
       "  </thead>\n",
       "  <tbody>\n",
       "    <tr>\n",
       "      <th rowspan=\"2\" valign=\"top\">Asia</th>\n",
       "      <th>China</th>\n",
       "      <td>1.3</td>\n",
       "    </tr>\n",
       "    <tr>\n",
       "      <th>India</th>\n",
       "      <td>1.4</td>\n",
       "    </tr>\n",
       "  </tbody>\n",
       "</table>\n",
       "</div>"
      ],
      "text/plain": [
       "                   Population\n",
       "Continent Country            \n",
       "Asia      China           1.3\n",
       "          India           1.4"
      ]
     },
     "execution_count": 58,
     "metadata": {},
     "output_type": "execute_result"
    }
   ],
   "source": [
    "df_2[df_2['Population']> 1]"
   ]
  },
  {
   "cell_type": "markdown",
   "id": "f08dd1c5",
   "metadata": {},
   "source": [
    "## Using .xs() (Cross-Section)"
   ]
  },
  {
   "cell_type": "code",
   "execution_count": 59,
   "id": "3fb9ae3d",
   "metadata": {},
   "outputs": [
    {
     "data": {
      "text/html": [
       "<div>\n",
       "<style scoped>\n",
       "    .dataframe tbody tr th:only-of-type {\n",
       "        vertical-align: middle;\n",
       "    }\n",
       "\n",
       "    .dataframe tbody tr th {\n",
       "        vertical-align: top;\n",
       "    }\n",
       "\n",
       "    .dataframe thead th {\n",
       "        text-align: right;\n",
       "    }\n",
       "</style>\n",
       "<table border=\"1\" class=\"dataframe\">\n",
       "  <thead>\n",
       "    <tr style=\"text-align: right;\">\n",
       "      <th></th>\n",
       "      <th>Population</th>\n",
       "    </tr>\n",
       "    <tr>\n",
       "      <th>Country</th>\n",
       "      <th></th>\n",
       "    </tr>\n",
       "  </thead>\n",
       "  <tbody>\n",
       "    <tr>\n",
       "      <th>China</th>\n",
       "      <td>1.3</td>\n",
       "    </tr>\n",
       "    <tr>\n",
       "      <th>India</th>\n",
       "      <td>1.4</td>\n",
       "    </tr>\n",
       "  </tbody>\n",
       "</table>\n",
       "</div>"
      ],
      "text/plain": [
       "         Population\n",
       "Country            \n",
       "China           1.3\n",
       "India           1.4"
      ]
     },
     "execution_count": 59,
     "metadata": {},
     "output_type": "execute_result"
    }
   ],
   "source": [
    "df_2.xs(key='Asia', axis=0)"
   ]
  },
  {
   "cell_type": "code",
   "execution_count": 60,
   "id": "32b333f7",
   "metadata": {},
   "outputs": [
    {
     "data": {
      "text/html": [
       "<div>\n",
       "<style scoped>\n",
       "    .dataframe tbody tr th:only-of-type {\n",
       "        vertical-align: middle;\n",
       "    }\n",
       "\n",
       "    .dataframe tbody tr th {\n",
       "        vertical-align: top;\n",
       "    }\n",
       "\n",
       "    .dataframe thead th {\n",
       "        text-align: right;\n",
       "    }\n",
       "</style>\n",
       "<table border=\"1\" class=\"dataframe\">\n",
       "  <thead>\n",
       "    <tr style=\"text-align: right;\">\n",
       "      <th></th>\n",
       "      <th>Population</th>\n",
       "    </tr>\n",
       "    <tr>\n",
       "      <th>Country</th>\n",
       "      <th></th>\n",
       "    </tr>\n",
       "  </thead>\n",
       "  <tbody>\n",
       "    <tr>\n",
       "      <th>China</th>\n",
       "      <td>1.3</td>\n",
       "    </tr>\n",
       "    <tr>\n",
       "      <th>India</th>\n",
       "      <td>1.4</td>\n",
       "    </tr>\n",
       "  </tbody>\n",
       "</table>\n",
       "</div>"
      ],
      "text/plain": [
       "         Population\n",
       "Country            \n",
       "China           1.3\n",
       "India           1.4"
      ]
     },
     "execution_count": 60,
     "metadata": {},
     "output_type": "execute_result"
    }
   ],
   "source": [
    "df_2.xs(key='Asia', level='Continent')"
   ]
  },
  {
   "cell_type": "code",
   "execution_count": null,
   "id": "06e74e1f",
   "metadata": {},
   "outputs": [
    {
     "data": {
      "text/html": [
       "<div>\n",
       "<style scoped>\n",
       "    .dataframe tbody tr th:only-of-type {\n",
       "        vertical-align: middle;\n",
       "    }\n",
       "\n",
       "    .dataframe tbody tr th {\n",
       "        vertical-align: top;\n",
       "    }\n",
       "\n",
       "    .dataframe thead th {\n",
       "        text-align: right;\n",
       "    }\n",
       "</style>\n",
       "<table border=\"1\" class=\"dataframe\">\n",
       "  <thead>\n",
       "    <tr style=\"text-align: right;\">\n",
       "      <th></th>\n",
       "      <th>Sales</th>\n",
       "      <th>Profit</th>\n",
       "    </tr>\n",
       "  </thead>\n",
       "  <tbody>\n",
       "    <tr>\n",
       "      <th>Product A</th>\n",
       "      <td>100</td>\n",
       "      <td>10</td>\n",
       "    </tr>\n",
       "    <tr>\n",
       "      <th>Product B</th>\n",
       "      <td>200</td>\n",
       "      <td>20</td>\n",
       "    </tr>\n",
       "  </tbody>\n",
       "</table>\n",
       "</div>"
      ],
      "text/plain": [
       "           Sales  Profit\n",
       "Product A    100      10\n",
       "Product B    200      20"
      ]
     },
     "execution_count": 61,
     "metadata": {},
     "output_type": "execute_result"
    }
   ],
   "source": [
    "df.xs('Q1', axis=1, level=1)"
   ]
  },
  {
   "cell_type": "markdown",
   "id": "10f4039e",
   "metadata": {},
   "source": [
    "\n",
    "## 🔄 Reshaping with MultiIndex — Deep Dive\n",
    "\n",
    "MultiIndexes allow for powerful reshaping with operations like:\n",
    "\n",
    "| Operation                     | Description                                     |\n",
    "| ----------------------------- | ----------------------------------------------- |\n",
    "| `.stack()`                    | Move columns into the row index                 |\n",
    "| `.unstack()`                  | Move index levels into columns                  |\n",
    "| `.pivot()` / `.pivot_table()` | Reshape data by pivoting one level into columns |\n",
    "| `.melt()`                     | Unpivot the DataFrame                           |\n",
    "| `.swaplevel()`                | Swap two index levels                           |\n",
    "| `.sort_index()`               | Sort by specific index levels                   |\n",
    "| `.reorder_levels()`           | Reorder levels of index/columns                 |\n"
   ]
  },
  {
   "cell_type": "code",
   "execution_count": 62,
   "id": "d67d7e08",
   "metadata": {},
   "outputs": [
    {
     "name": "stdout",
     "output_type": "stream",
     "text": [
      "              Sales  Profit\n",
      "Region Month               \n",
      "North  Jan      250      25\n",
      "       Feb      270      30\n",
      "South  Jan      300      35\n",
      "       Feb      310      40\n"
     ]
    }
   ],
   "source": [
    "arrays = [\n",
    "    ['North', 'North', 'South', 'South'],\n",
    "    ['Jan', 'Feb', 'Jan', 'Feb']\n",
    "]\n",
    "index = pd.MultiIndex.from_arrays(arrays, names=('Region', 'Month'))\n",
    "\n",
    "df = pd.DataFrame({\n",
    "    'Sales': [250, 270, 300, 310],\n",
    "    'Profit': [25, 30, 35, 40]\n",
    "}, index=index)\n",
    "\n",
    "print(df)\n",
    "\n"
   ]
  },
  {
   "cell_type": "code",
   "execution_count": 64,
   "id": "ecfcdc65",
   "metadata": {},
   "outputs": [
    {
     "data": {
      "text/html": [
       "<div>\n",
       "<style scoped>\n",
       "    .dataframe tbody tr th:only-of-type {\n",
       "        vertical-align: middle;\n",
       "    }\n",
       "\n",
       "    .dataframe tbody tr th {\n",
       "        vertical-align: top;\n",
       "    }\n",
       "\n",
       "    .dataframe thead tr th {\n",
       "        text-align: left;\n",
       "    }\n",
       "\n",
       "    .dataframe thead tr:last-of-type th {\n",
       "        text-align: right;\n",
       "    }\n",
       "</style>\n",
       "<table border=\"1\" class=\"dataframe\">\n",
       "  <thead>\n",
       "    <tr>\n",
       "      <th></th>\n",
       "      <th colspan=\"2\" halign=\"left\">Sales</th>\n",
       "      <th colspan=\"2\" halign=\"left\">Profit</th>\n",
       "    </tr>\n",
       "    <tr>\n",
       "      <th>Month</th>\n",
       "      <th>Feb</th>\n",
       "      <th>Jan</th>\n",
       "      <th>Feb</th>\n",
       "      <th>Jan</th>\n",
       "    </tr>\n",
       "    <tr>\n",
       "      <th>Region</th>\n",
       "      <th></th>\n",
       "      <th></th>\n",
       "      <th></th>\n",
       "      <th></th>\n",
       "    </tr>\n",
       "  </thead>\n",
       "  <tbody>\n",
       "    <tr>\n",
       "      <th>North</th>\n",
       "      <td>270</td>\n",
       "      <td>250</td>\n",
       "      <td>30</td>\n",
       "      <td>25</td>\n",
       "    </tr>\n",
       "    <tr>\n",
       "      <th>South</th>\n",
       "      <td>310</td>\n",
       "      <td>300</td>\n",
       "      <td>40</td>\n",
       "      <td>35</td>\n",
       "    </tr>\n",
       "  </tbody>\n",
       "</table>\n",
       "</div>"
      ],
      "text/plain": [
       "       Sales      Profit    \n",
       "Month    Feb  Jan    Feb Jan\n",
       "Region                      \n",
       "North    270  250     30  25\n",
       "South    310  300     40  35"
      ]
     },
     "execution_count": 64,
     "metadata": {},
     "output_type": "execute_result"
    }
   ],
   "source": [
    "# unstack() - turns row index into columns \n",
    "df_unstack = df.unstack(level='Month')\n",
    "df_unstack"
   ]
  },
  {
   "cell_type": "code",
   "execution_count": 67,
   "id": "8afdb0c8",
   "metadata": {},
   "outputs": [
    {
     "data": {
      "text/html": [
       "<div>\n",
       "<style scoped>\n",
       "    .dataframe tbody tr th:only-of-type {\n",
       "        vertical-align: middle;\n",
       "    }\n",
       "\n",
       "    .dataframe tbody tr th {\n",
       "        vertical-align: top;\n",
       "    }\n",
       "\n",
       "    .dataframe thead th {\n",
       "        text-align: right;\n",
       "    }\n",
       "</style>\n",
       "<table border=\"1\" class=\"dataframe\">\n",
       "  <thead>\n",
       "    <tr style=\"text-align: right;\">\n",
       "      <th></th>\n",
       "      <th></th>\n",
       "      <th>Sales</th>\n",
       "      <th>Profit</th>\n",
       "    </tr>\n",
       "    <tr>\n",
       "      <th>Region</th>\n",
       "      <th>Month</th>\n",
       "      <th></th>\n",
       "      <th></th>\n",
       "    </tr>\n",
       "  </thead>\n",
       "  <tbody>\n",
       "    <tr>\n",
       "      <th rowspan=\"2\" valign=\"top\">North</th>\n",
       "      <th>Feb</th>\n",
       "      <td>270</td>\n",
       "      <td>30</td>\n",
       "    </tr>\n",
       "    <tr>\n",
       "      <th>Jan</th>\n",
       "      <td>250</td>\n",
       "      <td>25</td>\n",
       "    </tr>\n",
       "    <tr>\n",
       "      <th rowspan=\"2\" valign=\"top\">South</th>\n",
       "      <th>Feb</th>\n",
       "      <td>310</td>\n",
       "      <td>40</td>\n",
       "    </tr>\n",
       "    <tr>\n",
       "      <th>Jan</th>\n",
       "      <td>300</td>\n",
       "      <td>35</td>\n",
       "    </tr>\n",
       "  </tbody>\n",
       "</table>\n",
       "</div>"
      ],
      "text/plain": [
       "              Sales  Profit\n",
       "Region Month               \n",
       "North  Feb      270      30\n",
       "       Jan      250      25\n",
       "South  Feb      310      40\n",
       "       Jan      300      35"
      ]
     },
     "execution_count": 67,
     "metadata": {},
     "output_type": "execute_result"
    }
   ],
   "source": [
    "# stack() - Turn Columns into Row Index\n",
    "df_unstack.stack(future_stack=True)"
   ]
  },
  {
   "cell_type": "code",
   "execution_count": null,
   "id": "14a3254f",
   "metadata": {},
   "outputs": [],
   "source": []
  }
 ],
 "metadata": {
  "kernelspec": {
   "display_name": "Python 3",
   "language": "python",
   "name": "python3"
  },
  "language_info": {
   "codemirror_mode": {
    "name": "ipython",
    "version": 3
   },
   "file_extension": ".py",
   "mimetype": "text/x-python",
   "name": "python",
   "nbconvert_exporter": "python",
   "pygments_lexer": "ipython3",
   "version": "3.13.2"
  }
 },
 "nbformat": 4,
 "nbformat_minor": 5
}
