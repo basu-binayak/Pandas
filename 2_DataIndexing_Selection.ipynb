{
 "cells": [
  {
   "cell_type": "markdown",
   "metadata": {},
   "source": [
    "# A. Data Indexing and Selection in Series\n"
   ]
  },
  {
   "cell_type": "code",
   "execution_count": 1,
   "metadata": {},
   "outputs": [],
   "source": [
    "import pandas as pd\n",
    "import numpy as np"
   ]
  },
  {
   "cell_type": "markdown",
   "metadata": {},
   "source": [
    "## A.1 Series as a Dictionary"
   ]
  },
  {
   "cell_type": "code",
   "execution_count": 13,
   "metadata": {},
   "outputs": [
    {
     "name": "stdout",
     "output_type": "stream",
     "text": [
      "The series is:\n",
      "1     0.942116\n",
      "2     0.296167\n",
      "3     0.788731\n",
      "4     0.412677\n",
      "5     0.698284\n",
      "6     0.962335\n",
      "7     0.100298\n",
      "8     0.150475\n",
      "9     0.331060\n",
      "10    0.268245\n",
      "dtype: float64\n",
      "The keys of the series are: Index([1, 2, 3, 4, 5, 6, 7, 8, 9, 10], dtype='int64')\n",
      "The values of the series are:[0.94211627 0.29616736 0.78873082 0.41267672 0.69828427 0.96233481\n",
      " 0.1002984  0.15047548 0.33106028 0.26824487]\n"
     ]
    }
   ],
   "source": [
    "# let us create a series object \n",
    "series_1 = pd.Series(data= np.random.random(10), \n",
    "                     index=[i for i in range(1,11)])\n",
    "print(f'The series is:\\n{series_1}')\n",
    "\n",
    "# just like a dict we can access the keys and the values of the series\n",
    "print(f'The keys of the series are: {series_1.keys()}')\n",
    "print(f'The values of the series are:{series_1.values}')"
   ]
  },
  {
   "cell_type": "code",
   "execution_count": 14,
   "metadata": {},
   "outputs": [
    {
     "name": "stdout",
     "output_type": "stream",
     "text": [
      "The items of the series (list of (key,value) tuples): <zip object at 0x0000028173B54D00>\n",
      "The items of the series (list of (key, value) tuples): [(1, 0.9421162670736947), (2, 0.2961673634226166), (3, 0.7887308203176896), (4, 0.4126767241943542), (5, 0.6982842663181421), (6, 0.9623348126494431), (7, 0.10029840370907839), (8, 0.15047548063503646), (9, 0.3310602758043256), (10, 0.2682448658669687)]\n"
     ]
    }
   ],
   "source": [
    "# items of the series - same as the items() method used in dict\n",
    "print(f'The items of the series (list of (key,value) tuples): {series_1.items()}')\n",
    "'''\n",
    "The output you're seeing indicates that series_1.items() returns a zip object. This object is an iterator that lazily produces (index, value) pairs from the series. However, it does not directly produce a list unless explicitly converted.\n",
    "'''\n",
    "\n",
    "# let us explicitly mention this \n",
    "# Get the items and convert to a list\n",
    "items = list(series_1.items())\n",
    "\n",
    "print(f'The items of the series (list of (key, value) tuples): {items}')"
   ]
  },
  {
   "cell_type": "code",
   "execution_count": 15,
   "metadata": {},
   "outputs": [
    {
     "data": {
      "text/plain": [
       "0.7887308203176896"
      ]
     },
     "execution_count": 15,
     "metadata": {},
     "output_type": "execute_result"
    }
   ],
   "source": [
    "# like dict, you can use key to access the elements of the series \n",
    "series_1[3]"
   ]
  },
  {
   "cell_type": "code",
   "execution_count": 16,
   "metadata": {},
   "outputs": [
    {
     "name": "stdout",
     "output_type": "stream",
     "text": [
      "1     0.942116\n",
      "2     0.296167\n",
      "3     0.788731\n",
      "4     0.412677\n",
      "5     0.698284\n",
      "6     0.962335\n",
      "7     0.100298\n",
      "8     0.150475\n",
      "9     0.331060\n",
      "10    0.268245\n",
      "11    0.987600\n",
      "dtype: float64\n"
     ]
    }
   ],
   "source": [
    "# you can add elements to the series by defining a new key/index\n",
    "series_1[11] = 0.9876\n",
    "print(series_1)"
   ]
  },
  {
   "cell_type": "markdown",
   "metadata": {},
   "source": [
    "## A.2 Series as a One-Dimensional Array\n",
    "\n",
    "If you have a Series with an **explicit index starting from 1**, slicing like `series[1:3]` will use the **implicit integer positions, not the explicit index**.\n",
    "\n",
    "**Solution:**\n",
    "- You can use `.loc[]` or `.iloc[]`to make your intent explicit:\n",
    "    - Use `.loc[]` to **slice using the explicit (labeled) index**.\n",
    "    - Use `.iloc[]` to slice using the **implicit (integer) index**."
   ]
  },
  {
   "cell_type": "code",
   "execution_count": 22,
   "metadata": {},
   "outputs": [
    {
     "name": "stdout",
     "output_type": "stream",
     "text": [
      "The first three items using explicit indexing : \n",
      "1    0.942116\n",
      "2    0.296167\n",
      "3    0.788731\n",
      "dtype: float64\n",
      "The first three items with implicit indexing : \n",
      "1    0.942116\n",
      "2    0.296167\n",
      "3    0.788731\n",
      "dtype: float64\n"
     ]
    }
   ],
   "source": [
    "# slicing with explicit index \n",
    "print(f'The first three items using explicit indexing : \\n{series_1.loc[1:3]}')\n",
    "\n",
    "# slicing with implicit index\n",
    "print(f'The first three items with implicit indexing : \\n{series_1.iloc[:3]}')"
   ]
  },
  {
   "cell_type": "markdown",
   "metadata": {},
   "source": [
    "The behavior you observe is because the `.loc[]` indexer in pandas **includes the end label** in the slicing range, following a **closed interval** logic `[start:end]`. This is in contrast to Python’s default slicing behavior (like with lists or `.iloc[]`), which uses a **half-open interval** `[start:end)`.\n",
    "\n",
    "Here’s a breakdown:\n",
    "\n",
    "### Key Differences:\n",
    "1. **`.loc[]` (label-based slicing)**:\n",
    "   - Includes the end label in the slice (`[start:end]`).\n",
    "   - This is consistent with the behavior of operations on labels in pandas.\n",
    "   - Example: `series.loc[1:3]` includes both 1, 2, and 3 as it uses the labels.\n",
    "\n",
    "2. **`.iloc[]` (position-based slicing)**:\n",
    "   - Excludes the end position in the slice (`[start:end)`).\n",
    "   - Example: `series.iloc[:3]` includes positions 0, 1, and 2, stopping before position 3.\n",
    "\n",
    "---\n",
    "\n",
    "### Example to Clarify:\n",
    "\n",
    "```python\n",
    "import pandas as pd\n",
    "\n",
    "# Create a Series with an explicit index starting from 1\n",
    "series_1 = pd.Series([10, 20, 30, 40], index=[1, 2, 3, 4])\n",
    "\n",
    "print(\"Original Series:\")\n",
    "print(series_1)\n",
    "\n",
    "# Explicit index slicing with .loc[]\n",
    "print(\"\\nSlicing with .loc[] (explicit indexing, closed interval):\")\n",
    "print(series_1.loc[1:3])  # Includes the end label (index 3)\n",
    "\n",
    "# Implicit index slicing with .iloc[]\n",
    "print(\"\\nSlicing with .iloc[] (implicit indexing, half-open interval):\")\n",
    "print(series_1.iloc[:3])  # Excludes the end position (position 3)\n",
    "```\n",
    "\n",
    "### Output:\n",
    "\n",
    "```plaintext\n",
    "Original Series:\n",
    "1    10\n",
    "2    20\n",
    "3    30\n",
    "4    40\n",
    "dtype: int64\n",
    "\n",
    "Slicing with .loc[] (explicit indexing, closed interval):\n",
    "1    10\n",
    "2    20\n",
    "3    30\n",
    "dtype: int64\n",
    "\n",
    "Slicing with .iloc[] (implicit indexing, half-open interval):\n",
    "1    10\n",
    "2    20\n",
    "3    30\n",
    "dtype: int64\n",
    "```\n",
    "\n",
    "---\n",
    "\n",
    "### Why `.loc[]` Includes the End Label:\n",
    "The `.loc[]` behavior aligns with pandas’ philosophy of working with labeled data:\n",
    "- When working with labels, it’s often more intuitive for users to think in terms of \"from label X to label Y\" and expect both labels to be included.\n",
    "\n",
    "This behavior ensures clarity and reduces off-by-one errors when working with labeled indices."
   ]
  },
  {
   "cell_type": "code",
   "execution_count": null,
   "metadata": {},
   "outputs": [
    {
     "name": "stdout",
     "output_type": "stream",
     "text": [
      "The first, third and seventh element are:\n",
      "1    0.942116\n",
      "3    0.788731\n",
      "7    0.100298\n",
      "dtype: float64\n"
     ]
    }
   ],
   "source": [
    "# fancy indexing - pass as a list of index in the loc \n",
    "print(f'The first, third and seventh element are:\\n{series_1.loc[[1,3,7]]}')"
   ]
  },
  {
   "cell_type": "code",
   "execution_count": null,
   "metadata": {},
   "outputs": [
    {
     "name": "stdout",
     "output_type": "stream",
     "text": [
      "The mean of the series is 45.45454545454545\n",
      "Boolean Series (True when value greater than mean): \n",
      "0     False\n",
      "1     False\n",
      "2      True\n",
      "3      True\n",
      "4     False\n",
      "5      True\n",
      "6      True\n",
      "7      True\n",
      "8     False\n",
      "9     False\n",
      "10    False\n",
      "dtype: bool\n",
      "Using the boolean series to filter the original :\n",
      "2    67\n",
      "3    88\n",
      "5    54\n",
      "6    76\n",
      "7    99\n",
      "dtype: int64\n"
     ]
    }
   ],
   "source": [
    "# boolean logic and masking in the Series object - just like the NumPy arrays \n",
    "\n",
    "# consider the following series\n",
    "series = pd.Series(data=[12,45,67,88,34,54,76,99,7,8,10])\n",
    "\n",
    "# find the mean of the series \n",
    "mean_series = np.mean(series)\n",
    "print(f\"The mean of the series is {mean_series}\")\n",
    "\n",
    "# create the boolean array \n",
    "bool_series = series > mean_series\n",
    "print(\"Boolean Series (True when value greater than mean): \")\n",
    "print(bool_series)\n",
    "\n",
    "# use this boolean series to filer the original series \n",
    "print(\"Using the boolean series to filter the original :\")\n",
    "print(series.loc[bool_series]) # use loc[] indexer for masking"
   ]
  },
  {
   "cell_type": "markdown",
   "metadata": {},
   "source": [
    "# B. Data Indexing and Selection in DataDrame\n"
   ]
  },
  {
   "cell_type": "code",
   "execution_count": 27,
   "metadata": {},
   "outputs": [
    {
     "data": {
      "text/html": [
       "<div>\n",
       "<style scoped>\n",
       "    .dataframe tbody tr th:only-of-type {\n",
       "        vertical-align: middle;\n",
       "    }\n",
       "\n",
       "    .dataframe tbody tr th {\n",
       "        vertical-align: top;\n",
       "    }\n",
       "\n",
       "    .dataframe thead th {\n",
       "        text-align: right;\n",
       "    }\n",
       "</style>\n",
       "<table border=\"1\" class=\"dataframe\">\n",
       "  <thead>\n",
       "    <tr style=\"text-align: right;\">\n",
       "      <th></th>\n",
       "      <th>area</th>\n",
       "      <th>pop</th>\n",
       "    </tr>\n",
       "  </thead>\n",
       "  <tbody>\n",
       "    <tr>\n",
       "      <th>California</th>\n",
       "      <td>423967</td>\n",
       "      <td>39538223</td>\n",
       "    </tr>\n",
       "    <tr>\n",
       "      <th>Texas</th>\n",
       "      <td>695662</td>\n",
       "      <td>29145505</td>\n",
       "    </tr>\n",
       "    <tr>\n",
       "      <th>Florida</th>\n",
       "      <td>170312</td>\n",
       "      <td>21538187</td>\n",
       "    </tr>\n",
       "    <tr>\n",
       "      <th>New York</th>\n",
       "      <td>141297</td>\n",
       "      <td>20201249</td>\n",
       "    </tr>\n",
       "    <tr>\n",
       "      <th>Pennsylvania</th>\n",
       "      <td>119280</td>\n",
       "      <td>13002700</td>\n",
       "    </tr>\n",
       "  </tbody>\n",
       "</table>\n",
       "</div>"
      ],
      "text/plain": [
       "                area       pop\n",
       "California    423967  39538223\n",
       "Texas         695662  29145505\n",
       "Florida       170312  21538187\n",
       "New York      141297  20201249\n",
       "Pennsylvania  119280  13002700"
      ]
     },
     "execution_count": 27,
     "metadata": {},
     "output_type": "execute_result"
    }
   ],
   "source": [
    "area = pd.Series({'California': 423967, 'Texas': 695662, \n",
    "                  'Florida': 170312, 'New York': 141297, \n",
    "                  'Pennsylvania': 119280})\n",
    "pop = pd.Series({'California': 39538223, 'Texas': 29145505, \n",
    "                 'Florida': 21538187, 'New York': 20201249, \n",
    "                 'Pennsylvania': 13002700})\n",
    "data = pd.DataFrame({'area':area, 'pop':pop})\n",
    "data"
   ]
  },
  {
   "cell_type": "code",
   "execution_count": 28,
   "metadata": {},
   "outputs": [
    {
     "name": "stdout",
     "output_type": "stream",
     "text": [
      "California      423967\n",
      "Texas           695662\n",
      "Florida         170312\n",
      "New York        141297\n",
      "Pennsylvania    119280\n",
      "Name: area, dtype: int64\n"
     ]
    }
   ],
   "source": [
    "# accessing each series of the dataframe \n",
    "area_series = data['area']\n",
    "print(area_series)"
   ]
  },
  {
   "cell_type": "code",
   "execution_count": 29,
   "metadata": {},
   "outputs": [
    {
     "data": {
      "text/html": [
       "<div>\n",
       "<style scoped>\n",
       "    .dataframe tbody tr th:only-of-type {\n",
       "        vertical-align: middle;\n",
       "    }\n",
       "\n",
       "    .dataframe tbody tr th {\n",
       "        vertical-align: top;\n",
       "    }\n",
       "\n",
       "    .dataframe thead th {\n",
       "        text-align: right;\n",
       "    }\n",
       "</style>\n",
       "<table border=\"1\" class=\"dataframe\">\n",
       "  <thead>\n",
       "    <tr style=\"text-align: right;\">\n",
       "      <th></th>\n",
       "      <th>area</th>\n",
       "      <th>pop</th>\n",
       "      <th>density</th>\n",
       "    </tr>\n",
       "  </thead>\n",
       "  <tbody>\n",
       "    <tr>\n",
       "      <th>California</th>\n",
       "      <td>423967</td>\n",
       "      <td>39538223</td>\n",
       "      <td>93.257784</td>\n",
       "    </tr>\n",
       "    <tr>\n",
       "      <th>Texas</th>\n",
       "      <td>695662</td>\n",
       "      <td>29145505</td>\n",
       "      <td>41.896072</td>\n",
       "    </tr>\n",
       "    <tr>\n",
       "      <th>Florida</th>\n",
       "      <td>170312</td>\n",
       "      <td>21538187</td>\n",
       "      <td>126.463121</td>\n",
       "    </tr>\n",
       "    <tr>\n",
       "      <th>New York</th>\n",
       "      <td>141297</td>\n",
       "      <td>20201249</td>\n",
       "      <td>142.970120</td>\n",
       "    </tr>\n",
       "    <tr>\n",
       "      <th>Pennsylvania</th>\n",
       "      <td>119280</td>\n",
       "      <td>13002700</td>\n",
       "      <td>109.009893</td>\n",
       "    </tr>\n",
       "  </tbody>\n",
       "</table>\n",
       "</div>"
      ],
      "text/plain": [
       "                area       pop     density\n",
       "California    423967  39538223   93.257784\n",
       "Texas         695662  29145505   41.896072\n",
       "Florida       170312  21538187  126.463121\n",
       "New York      141297  20201249  142.970120\n",
       "Pennsylvania  119280  13002700  109.009893"
      ]
     },
     "execution_count": 29,
     "metadata": {},
     "output_type": "execute_result"
    }
   ],
   "source": [
    "# add a new fature to the dataframe \n",
    "data['density'] = data['pop']/data['area']\n",
    "data"
   ]
  },
  {
   "cell_type": "markdown",
   "metadata": {},
   "source": [
    "## B.1 DataFrame as a 2D NumPy array"
   ]
  },
  {
   "cell_type": "code",
   "execution_count": 32,
   "metadata": {},
   "outputs": [
    {
     "name": "stdout",
     "output_type": "stream",
     "text": [
      "The NumPy array of the dataframe is:\n",
      "[[4.23967000e+05 3.95382230e+07 9.32577842e+01]\n",
      " [6.95662000e+05 2.91455050e+07 4.18960717e+01]\n",
      " [1.70312000e+05 2.15381870e+07 1.26463121e+02]\n",
      " [1.41297000e+05 2.02012490e+07 1.42970120e+02]\n",
      " [1.19280000e+05 1.30027000e+07 1.09009893e+02]]\n",
      "The transposed array converted to NumPy array is:\n",
      "[[4.23967000e+05 6.95662000e+05 1.70312000e+05 1.41297000e+05\n",
      "  1.19280000e+05]\n",
      " [3.95382230e+07 2.91455050e+07 2.15381870e+07 2.02012490e+07\n",
      "  1.30027000e+07]\n",
      " [9.32577842e+01 4.18960717e+01 1.26463121e+02 1.42970120e+02\n",
      "  1.09009893e+02]]\n"
     ]
    }
   ],
   "source": [
    "data_numpy = data.to_numpy()\n",
    "print(f'The NumPy array of the dataframe is:\\n{data_numpy}')\n",
    "\n",
    "data_numpy_T = data.T # transposes the dataframe \n",
    "print(f'The transposed array converted to NumPy array is:\\n{data_numpy_T.to_numpy()}')"
   ]
  },
  {
   "cell_type": "markdown",
   "metadata": {},
   "source": [
    "Using the `iloc` indexer, we can index a dataframe as if it is a simple 2D NumPy array!"
   ]
  },
  {
   "cell_type": "code",
   "execution_count": null,
   "metadata": {},
   "outputs": [
    {
     "data": {
      "text/html": [
       "<div>\n",
       "<style scoped>\n",
       "    .dataframe tbody tr th:only-of-type {\n",
       "        vertical-align: middle;\n",
       "    }\n",
       "\n",
       "    .dataframe tbody tr th {\n",
       "        vertical-align: top;\n",
       "    }\n",
       "\n",
       "    .dataframe thead th {\n",
       "        text-align: right;\n",
       "    }\n",
       "</style>\n",
       "<table border=\"1\" class=\"dataframe\">\n",
       "  <thead>\n",
       "    <tr style=\"text-align: right;\">\n",
       "      <th></th>\n",
       "      <th>area</th>\n",
       "      <th>pop</th>\n",
       "    </tr>\n",
       "  </thead>\n",
       "  <tbody>\n",
       "    <tr>\n",
       "      <th>California</th>\n",
       "      <td>423967</td>\n",
       "      <td>39538223</td>\n",
       "    </tr>\n",
       "    <tr>\n",
       "      <th>Florida</th>\n",
       "      <td>170312</td>\n",
       "      <td>21538187</td>\n",
       "    </tr>\n",
       "  </tbody>\n",
       "</table>\n",
       "</div>"
      ],
      "text/plain": [
       "              area       pop\n",
       "California  423967  39538223\n",
       "Florida     170312  21538187"
      ]
     },
     "execution_count": 35,
     "metadata": {},
     "output_type": "execute_result"
    }
   ],
   "source": [
    "# say I want the 1st and third row of area and pop\n",
    "data.iloc[[0,2],[0,1]] # note use the implicit index only!"
   ]
  },
  {
   "cell_type": "code",
   "execution_count": 45,
   "metadata": {},
   "outputs": [
    {
     "data": {
      "text/html": [
       "<div>\n",
       "<style scoped>\n",
       "    .dataframe tbody tr th:only-of-type {\n",
       "        vertical-align: middle;\n",
       "    }\n",
       "\n",
       "    .dataframe tbody tr th {\n",
       "        vertical-align: top;\n",
       "    }\n",
       "\n",
       "    .dataframe thead th {\n",
       "        text-align: right;\n",
       "    }\n",
       "</style>\n",
       "<table border=\"1\" class=\"dataframe\">\n",
       "  <thead>\n",
       "    <tr style=\"text-align: right;\">\n",
       "      <th></th>\n",
       "      <th>area</th>\n",
       "      <th>pop</th>\n",
       "    </tr>\n",
       "  </thead>\n",
       "  <tbody>\n",
       "    <tr>\n",
       "      <th>California</th>\n",
       "      <td>423967</td>\n",
       "      <td>39538223</td>\n",
       "    </tr>\n",
       "    <tr>\n",
       "      <th>Texas</th>\n",
       "      <td>695662</td>\n",
       "      <td>29145505</td>\n",
       "    </tr>\n",
       "    <tr>\n",
       "      <th>Florida</th>\n",
       "      <td>170312</td>\n",
       "      <td>21538187</td>\n",
       "    </tr>\n",
       "  </tbody>\n",
       "</table>\n",
       "</div>"
      ],
      "text/plain": [
       "              area       pop\n",
       "California  423967  39538223\n",
       "Texas       695662  29145505\n",
       "Florida     170312  21538187"
      ]
     },
     "execution_count": 45,
     "metadata": {},
     "output_type": "execute_result"
    }
   ],
   "source": [
    "# when we use the loc indexer, we have to use the explicit indexing \n",
    "data.loc[:'Florida',['area','pop']]"
   ]
  },
  {
   "cell_type": "code",
   "execution_count": 41,
   "metadata": {},
   "outputs": [
    {
     "data": {
      "text/html": [
       "<div>\n",
       "<style scoped>\n",
       "    .dataframe tbody tr th:only-of-type {\n",
       "        vertical-align: middle;\n",
       "    }\n",
       "\n",
       "    .dataframe tbody tr th {\n",
       "        vertical-align: top;\n",
       "    }\n",
       "\n",
       "    .dataframe thead th {\n",
       "        text-align: right;\n",
       "    }\n",
       "</style>\n",
       "<table border=\"1\" class=\"dataframe\">\n",
       "  <thead>\n",
       "    <tr style=\"text-align: right;\">\n",
       "      <th></th>\n",
       "      <th>pop</th>\n",
       "      <th>density</th>\n",
       "    </tr>\n",
       "  </thead>\n",
       "  <tbody>\n",
       "    <tr>\n",
       "      <th>California</th>\n",
       "      <td>39538223</td>\n",
       "      <td>93.257784</td>\n",
       "    </tr>\n",
       "    <tr>\n",
       "      <th>Texas</th>\n",
       "      <td>29145505</td>\n",
       "      <td>41.896072</td>\n",
       "    </tr>\n",
       "    <tr>\n",
       "      <th>Pennsylvania</th>\n",
       "      <td>13002700</td>\n",
       "      <td>109.009893</td>\n",
       "    </tr>\n",
       "  </tbody>\n",
       "</table>\n",
       "</div>"
      ],
      "text/plain": [
       "                   pop     density\n",
       "California    39538223   93.257784\n",
       "Texas         29145505   41.896072\n",
       "Pennsylvania  13002700  109.009893"
      ]
     },
     "execution_count": 41,
     "metadata": {},
     "output_type": "execute_result"
    }
   ],
   "source": [
    "# we can use the loc[] indexer to mask\n",
    "data.loc[data['density']<120, ['pop','density']]"
   ]
  },
  {
   "cell_type": "code",
   "execution_count": 44,
   "metadata": {},
   "outputs": [
    {
     "name": "stdout",
     "output_type": "stream",
     "text": [
      "                area       pop     density\n",
      "California    423967  39600000   93.257784\n",
      "Texas         695662  29145505   41.896072\n",
      "Florida       170312  21538187  126.463121\n",
      "New York      141297  20201249  142.970120\n",
      "Pennsylvania  119280  13002700  109.009893\n",
      "\n",
      "                area       pop     density\n",
      "California    423967  39538223   93.257784\n",
      "Texas         695662  29145505   41.896072\n",
      "Florida       170312  21538187  126.463121\n",
      "New York      141297  20201249  142.970120\n",
      "Pennsylvania  119280  13002700  109.009893\n"
     ]
    }
   ],
   "source": [
    "# we can modify any value \n",
    "data.iloc[0,1] = 39600000\n",
    "print(data)\n",
    "\n",
    "# back to the original \n",
    "data.loc['California','pop'] = 39538223\n",
    "print(f'\\n{data}')"
   ]
  },
  {
   "cell_type": "markdown",
   "metadata": {},
   "source": [
    "END!"
   ]
  }
 ],
 "metadata": {
  "kernelspec": {
   "display_name": "base",
   "language": "python",
   "name": "python3"
  },
  "language_info": {
   "codemirror_mode": {
    "name": "ipython",
    "version": 3
   },
   "file_extension": ".py",
   "mimetype": "text/x-python",
   "name": "python",
   "nbconvert_exporter": "python",
   "pygments_lexer": "ipython3",
   "version": "3.11.7"
  }
 },
 "nbformat": 4,
 "nbformat_minor": 2
}
