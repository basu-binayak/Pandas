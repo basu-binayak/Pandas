{
 "cells": [
  {
   "cell_type": "markdown",
   "metadata": {},
   "source": [
    "# A. The Pandas Series Object\n",
    "A Pandas Series Object is a **one-dimensional** ***labeled array*** capable of **holding any type of data**. Because the series is a one-dimensional object, it has a ***single axis - the index***. The main property of a single axis object is that ***data is arranged in a linear fashion*** like that of lists or arrays. "
   ]
  },
  {
   "cell_type": "code",
   "execution_count": 1,
   "metadata": {},
   "outputs": [],
   "source": [
    "# import the libraries \n",
    "import pandas as pd"
   ]
  },
  {
   "cell_type": "markdown",
   "metadata": {},
   "source": [
    "## Create a series from a list\n",
    "Let us create a Pandas Series object from a list!"
   ]
  },
  {
   "cell_type": "code",
   "execution_count": 5,
   "metadata": {},
   "outputs": [
    {
     "data": {
      "text/plain": [
       "0    10\n",
       "1    20\n",
       "2    30\n",
       "3    40\n",
       "dtype: int64"
      ]
     },
     "execution_count": 5,
     "metadata": {},
     "output_type": "execute_result"
    }
   ],
   "source": [
    "data = [10,20,30,40]\n",
    "series = pd.Series(data=data)\n",
    "\n",
    "series"
   ]
  },
  {
   "cell_type": "markdown",
   "metadata": {},
   "source": [
    "#### Explanation:\n",
    "- The data list contains the values `[10, 20, 30, 40]`.\n",
    "- The index of the Series is automatically generated as `0, 1, 2, 3`, corresponding to each value.\n",
    "\n",
    "#### NOTE\n",
    "- The index is not part of the values - the index is called *axis*\n",
    "- The values of the index is called the *axis labels*\n",
    "\n",
    "Thus, a Series has three attributes namely:\n",
    "- values \n",
    "- index\n",
    "- name (optional) - we have not asigned a name to our series yet! "
   ]
  },
  {
   "cell_type": "code",
   "execution_count": 6,
   "metadata": {},
   "outputs": [
    {
     "data": {
      "text/plain": [
       "0    10\n",
       "1    20\n",
       "2    30\n",
       "3    40\n",
       "Name: Basic Series, dtype: int64"
      ]
     },
     "execution_count": 6,
     "metadata": {},
     "output_type": "execute_result"
    }
   ],
   "source": [
    "# give a name to the series - optional in nature \n",
    "series.name = 'Basic Series'\n",
    "series"
   ]
  },
  {
   "cell_type": "markdown",
   "metadata": {},
   "source": [
    "As you can see, the name of the series is now `Basic Series`!\n",
    "\n",
    "We have seen that index is not part of the data/values. The natural question here is : **What type of object is the `index` in a `Series` object?**"
   ]
  },
  {
   "cell_type": "markdown",
   "metadata": {},
   "source": [
    "## Index in Series"
   ]
  },
  {
   "cell_type": "code",
   "execution_count": 7,
   "metadata": {},
   "outputs": [
    {
     "data": {
      "text/plain": [
       "RangeIndex(start=0, stop=4, step=1)"
      ]
     },
     "execution_count": 7,
     "metadata": {},
     "output_type": "execute_result"
    }
   ],
   "source": [
    "# let us look at the index of the series - this is a RangeIndex object!\n",
    "series.index"
   ]
  },
  {
   "cell_type": "code",
   "execution_count": 8,
   "metadata": {},
   "outputs": [
    {
     "name": "stdout",
     "output_type": "stream",
     "text": [
      "0 1 2 3 "
     ]
    }
   ],
   "source": [
    "# the index being a RangeIndex objet, we can use it in a loop\n",
    "for index in series.index:\n",
    "    print(index, end=' ')"
   ]
  },
  {
   "cell_type": "markdown",
   "metadata": {},
   "source": [
    "**Index** provides two level of abstraction.\n",
    "- The **first level of abstraction** - index allows you to label data points and hence making them easy to reference!\n",
    "- The **second level of abstraction** - index, as a built-in data structure allows you to modify and use a custom index independent of the values. \n",
    "\n",
    "Let us look at both these levels of abstraction!"
   ]
  },
  {
   "cell_type": "code",
   "execution_count": 6,
   "metadata": {},
   "outputs": [
    {
     "data": {
      "text/plain": [
       "20"
      ]
     },
     "execution_count": 6,
     "metadata": {},
     "output_type": "execute_result"
    }
   ],
   "source": [
    "# First level of abstraction for index - referenece data points\n",
    "series[1]"
   ]
  },
  {
   "cell_type": "code",
   "execution_count": 9,
   "metadata": {},
   "outputs": [
    {
     "name": "stdout",
     "output_type": "stream",
     "text": [
      "a    10\n",
      "b    20\n",
      "c    30\n",
      "d    40\n",
      "dtype: int64\n"
     ]
    }
   ],
   "source": [
    "# Creating a Series with a custom index\n",
    "data = [10, 20, 30, 40]\n",
    "index = ['a', 'b', 'c', 'd']\n",
    "\n",
    "series = pd.Series(data=data, index=index)\n",
    "\n",
    "print(series)"
   ]
  },
  {
   "cell_type": "code",
   "execution_count": 10,
   "metadata": {},
   "outputs": [
    {
     "data": {
      "text/plain": [
       "20"
      ]
     },
     "execution_count": 10,
     "metadata": {},
     "output_type": "execute_result"
    }
   ],
   "source": [
    "series['b'] # reference data points "
   ]
  },
  {
   "cell_type": "code",
   "execution_count": null,
   "metadata": {},
   "outputs": [
    {
     "data": {
      "text/plain": [
       "Index(['a', 'b', 'c', 'd'], dtype='object')"
      ]
     },
     "execution_count": 9,
     "metadata": {},
     "output_type": "execute_result"
    }
   ],
   "source": [
    "# what's the index now?\n",
    "series.index"
   ]
  },
  {
   "cell_type": "markdown",
   "metadata": {},
   "source": [
    "## Create a series with custom index from a dictionary"
   ]
  },
  {
   "cell_type": "code",
   "execution_count": 11,
   "metadata": {},
   "outputs": [
    {
     "name": "stdout",
     "output_type": "stream",
     "text": [
      "a    10\n",
      "b    20\n",
      "c    30\n",
      "d    40\n",
      "dtype: int64\n"
     ]
    }
   ],
   "source": [
    "# Creating a dictionary\n",
    "data_dict = {'a': 10, 'b': 20, 'c': 30, 'd': 40}\n",
    "\n",
    "# Converting the dictionary to a Series\n",
    "# keys of the dictionary becomes the index and the values become the data points in the pandas Series object \n",
    "series_from_dict = pd.Series(data_dict)\n",
    "\n",
    "print(series_from_dict)"
   ]
  },
  {
   "cell_type": "markdown",
   "metadata": {},
   "source": [
    "## Miscellaneous Topics in Series"
   ]
  },
  {
   "cell_type": "markdown",
   "metadata": {},
   "source": [
    "### Series - Non-homogenous!"
   ]
  },
  {
   "cell_type": "code",
   "execution_count": 12,
   "metadata": {},
   "outputs": [
    {
     "name": "stdout",
     "output_type": "stream",
     "text": [
      "a              10\n",
      "b    Harry Potter\n",
      "c           False\n",
      "d    Lionel Messi\n",
      "dtype: object\n"
     ]
    }
   ],
   "source": [
    "# The actual data (or values) for a series does not have to be numeric or homogeneous\n",
    "data_dict = {'a': 10, 'b': 'Harry Potter', 'c': False, 'd': 'Lionel Messi'}\n",
    "\n",
    "# Converting the dictionary to a Series\n",
    "series_from_dict = pd.Series(data_dict)\n",
    "\n",
    "print(series_from_dict)"
   ]
  },
  {
   "cell_type": "markdown",
   "metadata": {},
   "source": [
    "#### NOTE\n",
    "\n",
    "The datatype of the Series is now *object* - i.e. a python object.\n",
    "\n",
    "- The object data type is also used for a series with string values. In addition, it is also used for values that have heterogeneous or mixed types."
   ]
  },
  {
   "cell_type": "markdown",
   "metadata": {},
   "source": [
    "### Incorporating NULL values in Series"
   ]
  },
  {
   "cell_type": "code",
   "execution_count": 13,
   "metadata": {},
   "outputs": [
    {
     "data": {
      "text/plain": [
       "0    12.0\n",
       "1    20.0\n",
       "2    30.0\n",
       "3     NaN\n",
       "dtype: float64"
      ]
     },
     "execution_count": 13,
     "metadata": {},
     "output_type": "execute_result"
    }
   ],
   "source": [
    "import numpy as np\n",
    "\n",
    "# create a series with null values \n",
    "nan_series = pd.Series(data=[12,20,30,np.nan])\n",
    "\n",
    "nan_series"
   ]
  },
  {
   "cell_type": "markdown",
   "metadata": {},
   "source": [
    "### Size of array\n",
    "- using the `size` attribute of the Series object\n",
    "- using the `count()` method on the Series object "
   ]
  },
  {
   "cell_type": "code",
   "execution_count": 14,
   "metadata": {},
   "outputs": [
    {
     "data": {
      "text/plain": [
       "4"
      ]
     },
     "execution_count": 14,
     "metadata": {},
     "output_type": "execute_result"
    }
   ],
   "source": [
    "# size attribute - gets the size of the Series object along with missing values i.e. it also includes the missing values while clculating the size of the series \n",
    "nan_series.size"
   ]
  },
  {
   "cell_type": "code",
   "execution_count": 15,
   "metadata": {},
   "outputs": [
    {
     "data": {
      "text/plain": [
       "3"
      ]
     },
     "execution_count": 15,
     "metadata": {},
     "output_type": "execute_result"
    }
   ],
   "source": [
    "# get the size of the array excluding the missing values - use the count method \n",
    "nan_series.count()"
   ]
  },
  {
   "cell_type": "markdown",
   "metadata": {},
   "source": [
    "NOTE - the `np.nan` used in the above code is the same as `NULL` is SQL !"
   ]
  },
  {
   "cell_type": "markdown",
   "metadata": {},
   "source": [
    "### Similarity with numpy array"
   ]
  },
  {
   "cell_type": "code",
   "execution_count": 15,
   "metadata": {},
   "outputs": [
    {
     "data": {
      "text/plain": [
       "array([10, 20, 30, 40])"
      ]
     },
     "execution_count": 15,
     "metadata": {},
     "output_type": "execute_result"
    }
   ],
   "source": [
    "# creating a numpy array\n",
    "numpy_series = np.array([10,20,30,40])\n",
    "numpy_series"
   ]
  },
  {
   "cell_type": "code",
   "execution_count": 16,
   "metadata": {},
   "outputs": [
    {
     "data": {
      "text/plain": [
       "10"
      ]
     },
     "execution_count": 16,
     "metadata": {},
     "output_type": "execute_result"
    }
   ],
   "source": [
    "numpy_series[0]"
   ]
  },
  {
   "cell_type": "markdown",
   "metadata": {},
   "source": [
    "#### Boolean Array Concept - common to both NumPy and Series!"
   ]
  },
  {
   "cell_type": "markdown",
   "metadata": {},
   "source": [
    "Both the numpy array and the series have the *boolean array* concept. We can use this concept to filter the series!"
   ]
  },
  {
   "cell_type": "code",
   "execution_count": 16,
   "metadata": {},
   "outputs": [
    {
     "name": "stdout",
     "output_type": "stream",
     "text": [
      "The mean of the series is 45.45454545454545\n",
      "Boolean Series (True when value greater than mean): \n",
      "0     False\n",
      "1     False\n",
      "2      True\n",
      "3      True\n",
      "4     False\n",
      "5      True\n",
      "6      True\n",
      "7      True\n",
      "8     False\n",
      "9     False\n",
      "10    False\n",
      "dtype: bool\n",
      "Using the boolean series to filter the original :\n",
      "2    67\n",
      "3    88\n",
      "5    54\n",
      "6    76\n",
      "7    99\n",
      "dtype: int64\n"
     ]
    }
   ],
   "source": [
    "# consider the following series\n",
    "series = pd.Series(data=[12,45,67,88,34,54,76,99,7,8,10])\n",
    "\n",
    "# find the mean of the series \n",
    "mean_series = np.mean(series)\n",
    "print(f\"The mean of the series is {mean_series}\")\n",
    "\n",
    "# create the boolean array \n",
    "bool_series = series > mean_series\n",
    "print(\"Boolean Series (True when value greater than mean): \")\n",
    "print(bool_series)\n",
    "\n",
    "# use this boolean series to filer the original series \n",
    "print(\"Using the boolean series to filter the original :\")\n",
    "print(series[bool_series])"
   ]
  },
  {
   "cell_type": "markdown",
   "metadata": {},
   "source": [
    "As you can see, the filtering has taken place and we have a new series which has only those values that are greater than the mean !"
   ]
  },
  {
   "cell_type": "markdown",
   "metadata": {},
   "source": [
    "## Brief Introduction to Categorical Data\n",
    "\n",
    "### Creating a Categorical Series Using dtype=\"category\"\n",
    "You can create a categorical Series directly by specifying the dtype as \"category\" in the Series constructor."
   ]
  },
  {
   "cell_type": "code",
   "execution_count": 17,
   "metadata": {},
   "outputs": [
    {
     "name": "stdout",
     "output_type": "stream",
     "text": [
      "0     apple\n",
      "1    banana\n",
      "2    orange\n",
      "3     apple\n",
      "dtype: category\n",
      "Categories (3, object): ['apple', 'banana', 'orange']\n",
      "Categories : Index(['apple', 'banana', 'orange'], dtype='object')\n",
      "Codes: 0    0\n",
      "1    1\n",
      "2    2\n",
      "3    0\n",
      "dtype: int8\n"
     ]
    }
   ],
   "source": [
    "categories = pd.Series(data=['apple','banana','orange','apple'],\n",
    "                       dtype='category')\n",
    "\n",
    "print(categories)\n",
    "print(f\"Categories : {categories.cat.categories}\")\n",
    "print(f\"Codes: {categories.cat.codes}\")"
   ]
  },
  {
   "cell_type": "code",
   "execution_count": 21,
   "metadata": {},
   "outputs": [
    {
     "data": {
      "text/plain": [
       "<pandas.core.arrays.categorical.CategoricalAccessor object at 0x0000029AEE905BD0>"
      ]
     },
     "execution_count": 21,
     "metadata": {},
     "output_type": "execute_result"
    }
   ],
   "source": [
    "categories.cat"
   ]
  },
  {
   "cell_type": "markdown",
   "metadata": {},
   "source": [
    "In the code, the `cat` accessor is used to ***access various properties and methods for categorical data in pandas***. Here’s a breakdown:\n",
    "\n",
    "### Explanation of `cat`\n",
    "\n",
    "When you create a pandas `Series` with `dtype='category'`, pandas treats the data as **categorical data**. This means it’s stored in a way that’s ***optimized for repeated values***, which can be ***especially useful for columns with a limited number of unique values (like categorical labels)***.\n",
    "\n",
    "The `cat` accessor is specifically designed for working with these categorical data types. With it, you can access the underlying properties and methods that are unique to categorical data. \n",
    "\n",
    "### Example Output of Your Code\n",
    "\n",
    "```python\n",
    "Categories\n",
    "0     apple\n",
    "1    banana\n",
    "2    orange\n",
    "3     apple\n",
    "dtype: category\n",
    "Categories (3, object): ['apple', 'banana', 'orange']\n",
    "```\n",
    "\n",
    "- **`categories.cat.categories`**: This gives you the ***unique categories in your categorical Series***. In this case, the output would be `Index(['apple', 'banana', 'orange'], dtype='object')`, listing each unique category once.\n",
    "\n",
    "### Common Uses of `cat`\n",
    "\n",
    "The `cat` accessor in pandas provides several methods and properties specifically useful for managing and analyzing categorical data. Here are some of the most useful ones:\n",
    "\n",
    "1. **`categories.cat.categories`**:\n",
    "   - Returns the list of unique categories in the Series. This is helpful to quickly view all the distinct category labels in the data.\n",
    "\n",
    "2. **`categories.cat.codes`**:\n",
    "   - Returns the ***underlying integer codes for each category label in the Series***. This is useful for cases where you need numerical representations of each category (e.g., for machine learning tasks).\n",
    "\n",
    "3. **`categories.cat.add_categories(new_categories)`**:\n",
    "   - ***Adds new categories to the existing ones without altering current data***. For example, if you want to expand the list of possible categories before adding new data points, this is useful.\n",
    "\n",
    "4. **`categories.cat.remove_categories(removals)`**:\n",
    "   - ***Removes specified categories from the Series***. This is useful when certain categories are no longer relevant and should be excluded.\n",
    "\n",
    "5. **`categories.cat.rename_categories(new_names)`**:\n",
    "   - ***Renames the categories, allowing you to update category labels without modifying the data itself***. This is handy if you need more descriptive or consistent naming.\n",
    "\n",
    "6. **`categories.cat.reorder_categories(new_order)`**:\n",
    "   - ***Reorders the categories***. Useful when you need a specific order for analyses or plotting, such as changing the order from alphabetical to a custom order.\n",
    "\n",
    "7. **`categories.cat.set_categories(new_categories)`**:\n",
    "   - ***Sets new categories for the Series, allowing you to define the entire set of possible categories (even those not in use).*** This is helpful for aligning with a predefined set of categories, like all possible labels.\n",
    "\n",
    "8. **`categories.cat.as_ordered()` and `categories.cat.as_unordered()`**:\n",
    "   - ***Converts the Series to an ordered or unordered categorical***. Ordered categoricals support comparisons (e.g., for ordinal data like \"low,\" \"medium,\" \"high\").\n",
    "\n",
    "Each of these methods is tailored for efficiently managing, analyzing, and transforming categorical data. They help make the Series data more meaningful, especially when dealing with large datasets or preparing data for machine learning.\n",
    "\n",
    "Here are examples for each method and property of the `cat` accessor in pandas, using a sample categorical `Series` for illustration."
   ]
  },
  {
   "cell_type": "code",
   "execution_count": null,
   "metadata": {},
   "outputs": [
    {
     "name": "stdout",
     "output_type": "stream",
     "text": [
      "0     apple\n",
      "1    banana\n",
      "2    orange\n",
      "3     apple\n",
      "4    banana\n",
      "dtype: category\n",
      "Categories (3, object): ['apple', 'banana', 'orange']\n",
      "categories.cat.categories\n",
      "Categories: Index(['apple', 'banana', 'orange'], dtype='object')\n",
      "\n",
      "\n",
      "categories.cat.codes\n",
      "Category Codes: 0    0\n",
      "1    1\n",
      "2    2\n",
      "3    0\n",
      "4    1\n",
      "dtype: int8\n",
      "\n",
      "\n",
      "categories.cat.add_categories(new_categories)\n",
      "New Categories: Index(['apple', 'banana', 'orange', 'grape'], dtype='object')\n",
      "\n",
      "\n",
      "categories.cat.remove_categories(removals)\n",
      "Categories after removal: Index(['apple', 'banana', 'grape'], dtype='object')\n",
      "\n",
      "\n",
      "categories.cat.rename_categories(new_names)\n",
      "Renamed Categories: Index(['fruit_apple', 'fruit_banana', 'fruit_grape'], dtype='object')\n",
      "0     fruit_apple\n",
      "1    fruit_banana\n",
      "2             NaN\n",
      "3     fruit_apple\n",
      "4    fruit_banana\n",
      "dtype: category\n",
      "Categories (3, object): ['fruit_apple', 'fruit_banana', 'fruit_grape']\n",
      "\n",
      "\n",
      "categories.cat.reorder_categories(new_order)\n",
      "Reordered Categories: Index(['fruit_banana', 'fruit_grape', 'fruit_apple'], dtype='object')\n",
      "0     fruit_apple\n",
      "1    fruit_banana\n",
      "2             NaN\n",
      "3     fruit_apple\n",
      "4    fruit_banana\n",
      "dtype: category\n",
      "Categories (3, object): ['fruit_banana' < 'fruit_grape' < 'fruit_apple']\n",
      "\n",
      "\n",
      "categories.cat.set_categories(new_categories)\n",
      "Updated Categories: Index(['apple', 'banana', 'orange', 'mango'], dtype='object')\n",
      "0    NaN\n",
      "1    NaN\n",
      "2    NaN\n",
      "3    NaN\n",
      "4    NaN\n",
      "dtype: category\n",
      "Categories (4, object): ['apple' < 'banana' < 'orange' < 'mango']\n",
      "\n",
      "\n",
      "categories.cat.as_ordered()` and `categories.cat.as_unordered()\n",
      "Is Ordered: True\n",
      "Is Ordered: False\n"
     ]
    }
   ],
   "source": [
    "# Sample categorical Series\n",
    "data = pd.Series(['apple', 'banana', 'orange', 'apple', 'banana'], dtype='category')\n",
    "print(data)\n",
    "\n",
    "print('categories.cat.categories')\n",
    "# - Returns the list of unique categories.\n",
    "print(\"Categories:\", data.cat.categories)\n",
    "# Output: Categories: Index(['apple', 'banana', 'orange'], dtype='object')\n",
    "print('\\n')\n",
    "\n",
    "print('categories.cat.codes')\n",
    "# - Returns integer codes for each category label.\n",
    "print(\"Category Codes:\", data.cat.codes)\n",
    "# Output: Category Codes: 0 0, 1 1, 2 2, 3 0, 4 1 (where apple=0, banana=1, orange=2)\n",
    "print('\\n')\n",
    "\n",
    "print('categories.cat.add_categories(new_categories)')\n",
    "#-  pass the new categories as a list of string(s)\n",
    "# - Adds new categories to the Series.\n",
    "data = data.cat.add_categories(['grape'])\n",
    "print(\"New Categories:\", data.cat.categories)\n",
    "# Output: New Categories: Index(['apple', 'banana', 'orange', 'grape'], dtype='object')\n",
    "print('\\n')\n",
    "\n",
    "print('categories.cat.remove_categories(removals)')\n",
    "#- pas the removals as a list of string(s)\n",
    "#- Removes specified categories from the Series.\n",
    "data = data.cat.remove_categories(['orange'])\n",
    "print(\"Categories after removal:\", data.cat.categories)\n",
    "# Output: Categories after removal: Index(['apple', 'banana', 'grape'], dtype='object')\n",
    "print('\\n')\n",
    "\n",
    "\n",
    "print('categories.cat.rename_categories(new_names)')\n",
    "#- Renames categories with new labels.\n",
    "data = data.cat.rename_categories(['fruit_apple', 'fruit_banana', 'fruit_grape'])\n",
    "print(\"Renamed Categories:\", data.cat.categories)\n",
    "# Output: Renamed Categories: Index(['fruit_apple', 'fruit_banana', 'fruit_grape'], dtype='object')\n",
    "print(data) # Note that, in the data the orange category will not become fruit_grape instead it is NaN. For other categories, the data changes too!\n",
    "print('\\n')\n",
    "\n",
    "print('categories.cat.reorder_categories(new_order)')\n",
    "#- Changes the order of the categories.\n",
    "data = data.cat.reorder_categories(['fruit_banana', 'fruit_grape', 'fruit_apple'], ordered=True)\n",
    "print(\"Reordered Categories:\", data.cat.categories)\n",
    "# Output: Reordered Categories: Index(['fruit_banana', 'fruit_grape', 'fruit_apple'], dtype='object')\n",
    "print(data) # no change in data but now the categories are ordered \n",
    "print('\\n')\n",
    "\n",
    "print('categories.cat.set_categories(new_categories)')\n",
    "#- Sets new categories, allowing you to redefine the whole set.\n",
    "data = data.cat.set_categories(['apple', 'banana', 'orange', 'mango'])\n",
    "print(\"Updated Categories:\", data.cat.categories)\n",
    "# Output: Updated Categories: Index(['apple', 'banana', 'orange', 'mango'], dtype='object')\n",
    "print(data) # note that all data become NaN since these are set to new categories \n",
    "print('\\n')\n",
    "\n",
    "print('categories.cat.as_ordered()` and `categories.cat.as_unordered()')\n",
    "#- Converts the Series to an ordered or unordered categorical.\n",
    "\n",
    "# Convert to ordered categorical\n",
    "data = data.cat.as_ordered()\n",
    "print(\"Is Ordered:\", data.cat.ordered)\n",
    "# Output: Is Ordered: True\n",
    "\n",
    "# Convert back to unordered categorical\n",
    "data = data.cat.as_unordered()\n",
    "print(\"Is Ordered:\", data.cat.ordered)\n",
    "# Output: Is Ordered: False"
   ]
  },
  {
   "cell_type": "markdown",
   "metadata": {},
   "source": [
    "### Converting an Existing Series to a Categorical Series Using .astype(\"category\")\n",
    "\n",
    "- You can also convert an existing Series to categorical by calling the .astype(\"category\") method.\n",
    "    > Note, however, that using this method creates a unordered category!"
   ]
  },
  {
   "cell_type": "code",
   "execution_count": 24,
   "metadata": {},
   "outputs": [
    {
     "name": "stdout",
     "output_type": "stream",
     "text": [
      "0     dog\n",
      "1     cat\n",
      "2     dog\n",
      "3    bird\n",
      "4     cat\n",
      "dtype: category\n",
      "Categories (3, object): ['bird', 'cat', 'dog']\n"
     ]
    }
   ],
   "source": [
    "# Creating a normal Series\n",
    "data = [\"dog\", \"cat\", \"dog\", \"bird\", \"cat\"]\n",
    "series = pd.Series(data)\n",
    "\n",
    "# Converting the Series to categorical\n",
    "categorical_series = series.astype('category')\n",
    "\n",
    "print(categorical_series)"
   ]
  },
  {
   "cell_type": "markdown",
   "metadata": {},
   "source": [
    "#### Benefits of Using Categorical Data:\n",
    "- Less Memory: Categorical data uses less memory than regular string data because the categories are stored as numerical codes internally.\n",
    "- Improved Performance: Operations on categorical data are faster compared to working with raw strings.\n",
    "- Enforced Membership: Categorical data ensures that the values in your Series belong to a predefined set of categories.\n",
    "- Ordering: You can impose an order on categories, making it useful for ranked or hierarchical data.\n",
    "\n",
    "#### Creating an Ordered category "
   ]
  },
  {
   "cell_type": "code",
   "execution_count": 25,
   "metadata": {},
   "outputs": [
    {
     "name": "stdout",
     "output_type": "stream",
     "text": [
      "0       low\n",
      "1    medium\n",
      "2      high\n",
      "3    medium\n",
      "4       low\n",
      "5      high\n",
      "6      high\n",
      "7       low\n",
      "8    medium\n",
      "9       low\n",
      "dtype: category\n",
      "Categories (3, object): ['low' < 'medium' < 'high']\n",
      "Is ordered : True\n"
     ]
    }
   ],
   "source": [
    "# Creating an ordered categorical data \n",
    "\n",
    "lmh = ['low','medium','high','medium','low','high','high','low','medium','low']\n",
    "\n",
    "ordered_categories = pd.Series(data=lmh,\n",
    "                               dtype=pd.CategoricalDtype(\n",
    "                                   categories=['low','medium','high'],\n",
    "                                   ordered=True\n",
    "                               ))\n",
    "\n",
    "# Display the Series with its ordered categories\n",
    "print(ordered_categories)\n",
    "print(f\"Is ordered : {ordered_categories.cat.ordered}\")"
   ]
  },
  {
   "cell_type": "code",
   "execution_count": null,
   "metadata": {},
   "outputs": [
    {
     "data": {
      "text/plain": [
       "1    medium\n",
       "2      high\n",
       "3    medium\n",
       "5      high\n",
       "6      high\n",
       "8    medium\n",
       "dtype: category\n",
       "Categories (3, object): ['low' < 'medium' < 'high']"
      ]
     },
     "execution_count": 26,
     "metadata": {},
     "output_type": "execute_result"
    }
   ],
   "source": [
    "# filter wtth the ordering - a benefit of using ordered categories - useful for ordinal data \n",
    "ordered_categories[ordered_categories>'low']"
   ]
  },
  {
   "cell_type": "markdown",
   "metadata": {},
   "source": [
    "#### Reordering Categories \n",
    "To reorder categories in a Pandas categorical Series, you can use the cat.reorder_categories() method. This allows you to rearrange the categories in any order you like. Additionally, if the categorical data is ordered, you can also change the order to define a new sorting or ranking scheme.\n",
    "\n",
    "Here’s how you can reorder categories in a Pandas Series.\n",
    "\n",
    "##### Example 1: Reordering Categories\n",
    "Let's create a categorical Series and reorder its categories:"
   ]
  },
  {
   "cell_type": "code",
   "execution_count": 28,
   "metadata": {},
   "outputs": [
    {
     "name": "stdout",
     "output_type": "stream",
     "text": [
      "0    medium\n",
      "1       low\n",
      "2      high\n",
      "3    medium\n",
      "4       low\n",
      "dtype: category\n",
      "Categories (3, object): ['high' < 'medium' < 'low']\n",
      "\n",
      "Reordered categories: Index(['high', 'medium', 'low'], dtype='object')\n",
      "0    MEDIUM\n",
      "1      HIGH\n",
      "2       LOW\n",
      "3    MEDIUM\n",
      "4      HIGH\n",
      "dtype: category\n",
      "Categories (3, object): ['HIGH' < 'MEDIUM' < 'LOW']\n",
      "\n",
      "Reordered categories: Index(['HIGH', 'MEDIUM', 'LOW'], dtype='object')\n"
     ]
    }
   ],
   "source": [
    "# Creating a categorical Series\n",
    "data = pd.Series(data = [\"medium\", \"low\", \"high\", \"medium\", \"low\"], \n",
    "                 dtype = pd.CategoricalDtype(\n",
    "                     categories=[\"low\", \"medium\", \"high\"], \n",
    "                     ordered=True\n",
    "                     )\n",
    "                 )\n",
    "\n",
    "# Reordering the categories\n",
    "reordered_data = data.cat.reorder_categories([\"high\", \"medium\", \"low\"], ordered=True)\n",
    "\n",
    "# Display the reordered Series\n",
    "print(reordered_data)\n",
    "print(\"\\nReordered categories:\", reordered_data.cat.categories)\n",
    "\n",
    "# Rename Categories \n",
    "renamed_data = data.cat.rename_categories(['HIGH','MEDIUM','LOW'])\n",
    "print(renamed_data)\n",
    "print(\"\\nReordered categories:\", renamed_data.cat.categories)"
   ]
  },
  {
   "cell_type": "markdown",
   "metadata": {},
   "source": [
    "##### Example 2: Reordering and Keeping Categories Unordered\n",
    "If your data is unordered, you can still reorder categories without imposing an order on them:"
   ]
  },
  {
   "cell_type": "code",
   "execution_count": 42,
   "metadata": {},
   "outputs": [
    {
     "name": "stdout",
     "output_type": "stream",
     "text": [
      "0    medium\n",
      "1       low\n",
      "2      high\n",
      "3    medium\n",
      "4       low\n",
      "dtype: category\n",
      "Categories (3, object): ['high', 'medium', 'low']\n",
      "\n",
      "Reordered categories (unordered): Index(['high', 'medium', 'low'], dtype='object')\n"
     ]
    }
   ],
   "source": [
    "# Reordering the categories without imposing an order\n",
    "reordered_unordered = data.cat.reorder_categories([\"high\", \"medium\", \"low\"], ordered=False)\n",
    "\n",
    "# Display the reordered Series\n",
    "print(reordered_unordered)\n",
    "print(\"\\nReordered categories (unordered):\", reordered_unordered.cat.categories)"
   ]
  },
  {
   "cell_type": "markdown",
   "metadata": {},
   "source": [
    "# B. Pandas DataFrame Object\n",
    "\n",
    "- If a **Series** is an ***analog of a one-dimensional array with explicit indices***, a **DataFrame** is an ***analog of a two-dimensional array with explicit row and column indices***. Just as you might think of a two-dimensional array as an ordered sequence of aligned one dimensional columns, you can ***think of a DataFrame as a sequence of aligned Series objects***. Here, by “aligned” we mean that they share the same index.\n",
    "    > Source: Python Data Science Handbook\n",
    "\n",
    "## Creating a DataFrame\n",
    "Let us create a simple pandas DataFrame object!"
   ]
  },
  {
   "cell_type": "code",
   "execution_count": 31,
   "metadata": {},
   "outputs": [
    {
     "name": "stdout",
     "output_type": "stream",
     "text": [
      "   Age     Name\n",
      "0   20     Ajay\n",
      "1   34     Shin\n",
      "2   56   Freddy\n",
      "3   78  Michael\n",
      "<class 'pandas.core.frame.DataFrame'>\n"
     ]
    }
   ],
   "source": [
    "df = pd.DataFrame({\n",
    "    'Age':[20,34,56,78],\n",
    "    'Name' : ['Ajay', 'Shin', 'Freddy', 'Michael']\n",
    "})\n",
    "print(df)\n",
    "print(type(df))"
   ]
  },
  {
   "cell_type": "markdown",
   "metadata": {},
   "source": [
    "A single-column DataFrame can be constructed from a single Series"
   ]
  },
  {
   "cell_type": "code",
   "execution_count": 38,
   "metadata": {},
   "outputs": [
    {
     "name": "stdout",
     "output_type": "stream",
     "text": [
      "California      39538223\n",
      "Texas           29145505\n",
      "Florida         21538187\n",
      "New York        20201249\n",
      "Pennsylvania    13002700\n",
      "dtype: int64\n",
      "<class 'pandas.core.series.Series'>\n",
      "\n",
      "\n",
      "              Population\n",
      "California      39538223\n",
      "Texas           29145505\n",
      "Florida         21538187\n",
      "New York        20201249\n",
      "Pennsylvania    13002700\n",
      "<class 'pandas.core.frame.DataFrame'>\n"
     ]
    }
   ],
   "source": [
    "population_dict = {'California': 39538223, 'Texas': 29145505, \n",
    "                   'Florida': 21538187, 'New York': 20201249, \n",
    "                   'Pennsylvania': 13002700}\n",
    "\n",
    "population_series = pd.Series(population_dict)\n",
    "print(population_series)\n",
    "print(type(population_series))\n",
    "\n",
    "print('\\n')\n",
    "\n",
    "population_df = pd.DataFrame(population_series, \n",
    "                             columns=['Population'])\n",
    "print(population_df)\n",
    "print(type(population_df))"
   ]
  },
  {
   "cell_type": "markdown",
   "metadata": {},
   "source": [
    "Let us view the dataframe as a sequence of aligned Series objects!"
   ]
  },
  {
   "cell_type": "code",
   "execution_count": null,
   "metadata": {},
   "outputs": [
    {
     "data": {
      "text/html": [
       "<div>\n",
       "<style scoped>\n",
       "    .dataframe tbody tr th:only-of-type {\n",
       "        vertical-align: middle;\n",
       "    }\n",
       "\n",
       "    .dataframe tbody tr th {\n",
       "        vertical-align: top;\n",
       "    }\n",
       "\n",
       "    .dataframe thead th {\n",
       "        text-align: right;\n",
       "    }\n",
       "</style>\n",
       "<table border=\"1\" class=\"dataframe\">\n",
       "  <thead>\n",
       "    <tr style=\"text-align: right;\">\n",
       "      <th></th>\n",
       "      <th>population</th>\n",
       "      <th>area</th>\n",
       "    </tr>\n",
       "  </thead>\n",
       "  <tbody>\n",
       "    <tr>\n",
       "      <th>California</th>\n",
       "      <td>39538223</td>\n",
       "      <td>423967</td>\n",
       "    </tr>\n",
       "    <tr>\n",
       "      <th>Texas</th>\n",
       "      <td>29145505</td>\n",
       "      <td>695662</td>\n",
       "    </tr>\n",
       "    <tr>\n",
       "      <th>Florida</th>\n",
       "      <td>21538187</td>\n",
       "      <td>170312</td>\n",
       "    </tr>\n",
       "    <tr>\n",
       "      <th>New York</th>\n",
       "      <td>20201249</td>\n",
       "      <td>141297</td>\n",
       "    </tr>\n",
       "    <tr>\n",
       "      <th>Pennsylvania</th>\n",
       "      <td>13002700</td>\n",
       "      <td>119280</td>\n",
       "    </tr>\n",
       "  </tbody>\n",
       "</table>\n",
       "</div>"
      ],
      "text/plain": [
       "              population    area\n",
       "California      39538223  423967\n",
       "Texas           29145505  695662\n",
       "Florida         21538187  170312\n",
       "New York        20201249  141297\n",
       "Pennsylvania    13002700  119280"
      ]
     },
     "execution_count": 32,
     "metadata": {},
     "output_type": "execute_result"
    }
   ],
   "source": [
    "population_dict = {'California': 39538223, 'Texas': 29145505, \n",
    "                   'Florida': 21538187, 'New York': 20201249, \n",
    "                   'Pennsylvania': 13002700}\n",
    "\n",
    "area_dict = {'California': 423967, 'Texas': 695662, 'Florida': 170312, \n",
    "             'New York': 141297, 'Pennsylvania': 119280}\n",
    "\n",
    "states = pd.DataFrame({\n",
    "    'population': population_dict,\n",
    "    'area': area_dict\n",
    "}) # think states as a combination of two aligned series objects \n",
    "states"
   ]
  },
  {
   "cell_type": "markdown",
   "metadata": {},
   "source": [
    "## Index in DataFrame "
   ]
  },
  {
   "cell_type": "code",
   "execution_count": 33,
   "metadata": {},
   "outputs": [
    {
     "data": {
      "text/plain": [
       "Index(['California', 'Texas', 'Florida', 'New York', 'Pennsylvania'], dtype='object')"
      ]
     },
     "execution_count": 33,
     "metadata": {},
     "output_type": "execute_result"
    }
   ],
   "source": [
    "# just like the Series object, the DataFrame object also has an index \n",
    "states.index"
   ]
  },
  {
   "cell_type": "code",
   "execution_count": null,
   "metadata": {},
   "outputs": [
    {
     "data": {
      "text/plain": [
       "RangeIndex(start=0, stop=4, step=1)"
      ]
     },
     "execution_count": 34,
     "metadata": {},
     "output_type": "execute_result"
    }
   ],
   "source": [
    "df.index # this will give us a RangeIndex since this dataframe uses the default index"
   ]
  },
  {
   "cell_type": "markdown",
   "metadata": {},
   "source": [
    "Since, DataFrame is a two-dimentional array, the object has a columns attribute that gives us the index for the Columns "
   ]
  },
  {
   "cell_type": "code",
   "execution_count": 35,
   "metadata": {},
   "outputs": [
    {
     "data": {
      "text/plain": [
       "Index(['population', 'area'], dtype='object')"
      ]
     },
     "execution_count": 35,
     "metadata": {},
     "output_type": "execute_result"
    }
   ],
   "source": [
    "states.columns"
   ]
  },
  {
   "cell_type": "code",
   "execution_count": 36,
   "metadata": {},
   "outputs": [
    {
     "data": {
      "text/plain": [
       "Index(['Age', 'Name'], dtype='object')"
      ]
     },
     "execution_count": 36,
     "metadata": {},
     "output_type": "execute_result"
    }
   ],
   "source": [
    "df.columns"
   ]
  },
  {
   "cell_type": "markdown",
   "metadata": {},
   "source": [
    "## Reference Datapoints \n"
   ]
  },
  {
   "cell_type": "markdown",
   "metadata": {},
   "source": [
    "# A Brief discussion on Accessors"
   ]
  },
  {
   "cell_type": "markdown",
   "metadata": {},
   "source": [
    "An **accessor** in pandas is an attribute that provides access to specialized functionality for certain data types within a `Series` or `DataFrame`. Accessors allow you to call specific methods and properties that are only relevant to a particular data type, making it easier to manipulate and analyze data without needing to change the core data structure. \n",
    "\n",
    "### Common Accessors in pandas\n",
    "\n",
    "Here are a few of the main accessors in pandas:\n",
    "\n",
    "1. **`.str`**: The string accessor for text data.\n",
    "   - Provides methods specific to string operations, like `.str.lower()` (to lowercase), `.str.contains()` (for substring search), and `.str.replace()` (for replacing substrings).\n",
    "   \n",
    "2. **`.dt`**: The datetime accessor for datetime data.\n",
    "   - Provides access to datetime-specific properties like `.dt.year`, `.dt.month`, and `.dt.day`, and methods like `.dt.to_period()` (to convert datetime to a period) and `.dt.floor()` (to round down to a specific time frequency).\n",
    "   \n",
    "3. **`.cat`**: The categorical accessor for categorical data.\n",
    "   - Provides methods for managing categories, such as `.cat.categories`, `.cat.codes`, `.cat.add_categories()`, and `.cat.remove_categories()`.\n",
    "\n",
    "### Example of Accessor Use\n",
    "\n",
    "Accessors allow you to work with data in a more structured and intuitive way. For example:\n",
    "\n",
    "```python\n",
    "# String accessor example\n",
    "data = pd.Series(['apple', 'banana', 'cherry'])\n",
    "print(data.str.upper())  # Converts each string in the Series to uppercase\n",
    "\n",
    "# Datetime accessor example\n",
    "date_data = pd.Series(pd.to_datetime(['2023-01-01', '2023-02-01', '2023-03-01']))\n",
    "print(date_data.dt.month)  # Extracts the month from each datetime entry\n",
    "```\n",
    "\n",
    "### Why Accessors are Useful\n",
    "\n",
    "Accessors provide a logical grouping of functionality based on data type, helping you:\n",
    "- **Access** methods and properties relevant to the data type without needing conversions.\n",
    "- **Manipulate** data more easily, especially with common operations like string handling, date extraction, or category management.\n",
    "- **Improve readability**, as code using accessors is generally easier to follow and directly communicates the data type and operations being performed."
   ]
  },
  {
   "cell_type": "markdown",
   "metadata": {},
   "source": [
    "# END!"
   ]
  }
 ],
 "metadata": {
  "kernelspec": {
   "display_name": "base",
   "language": "python",
   "name": "python3"
  },
  "language_info": {
   "codemirror_mode": {
    "name": "ipython",
    "version": 3
   },
   "file_extension": ".py",
   "mimetype": "text/x-python",
   "name": "python",
   "nbconvert_exporter": "python",
   "pygments_lexer": "ipython3",
   "version": "3.11.7"
  }
 },
 "nbformat": 4,
 "nbformat_minor": 2
}
