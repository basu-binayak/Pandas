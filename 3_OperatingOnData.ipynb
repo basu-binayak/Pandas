{
 "cells": [
  {
   "cell_type": "markdown",
   "metadata": {},
   "source": [
    "# Operating On Data in Pandas\n",
    "\n",
    "## A. ufuncs in Pandas \n",
    "\n",
    "Since `Pandas` is designed to work with NumPy, all the ufuncs of `NumPy` will also work on the Pandas `Series` and `DataFrame` objects."
   ]
  },
  {
   "cell_type": "code",
   "execution_count": 2,
   "metadata": {},
   "outputs": [],
   "source": [
    "# import the libraries \n",
    "import pandas as pd\n",
    "import numpy as np"
   ]
  },
  {
   "cell_type": "code",
   "execution_count": 3,
   "metadata": {},
   "outputs": [
    {
     "name": "stdout",
     "output_type": "stream",
     "text": [
      "The series is:\n",
      "0     26\n",
      "1     37\n",
      "2     14\n",
      "3     19\n",
      "4     32\n",
      "5     43\n",
      "6     15\n",
      "7     20\n",
      "8      1\n",
      "9      8\n",
      "10    23\n",
      "11    14\n",
      "12    21\n",
      "13     4\n",
      "14    31\n",
      "dtype: int32\n",
      "The dataframe is :\n",
      "    A   B   C   D\n",
      "0  37  16  10  28\n",
      "1  22  21  22  14\n",
      "2  45  41  17  13\n",
      "3  33  18  44   2\n"
     ]
    }
   ],
   "source": [
    "# let us create a 1D series object in Pandas \n",
    "series_1 = pd.Series(np.random.randint(50,size=15))\n",
    "print(f'The series is:\\n{series_1}')\n",
    "\n",
    "# let us also create a dataframe object\n",
    "df_1 = pd.DataFrame(data=np.random.randint(50, size=(4,4)),\n",
    "                    columns=['A','B','C','D'])\n",
    "print(f'The dataframe is :\\n{df_1}')"
   ]
  },
  {
   "cell_type": "code",
   "execution_count": 4,
   "metadata": {},
   "outputs": [
    {
     "name": "stdout",
     "output_type": "stream",
     "text": [
      "The series being squared is: \n",
      "0      676\n",
      "1     1369\n",
      "2      196\n",
      "3      361\n",
      "4     1024\n",
      "5     1849\n",
      "6      225\n",
      "7      400\n",
      "8        1\n",
      "9       64\n",
      "10     529\n",
      "11     196\n",
      "12     441\n",
      "13      16\n",
      "14     961\n",
      "dtype: int32\n",
      "The exponential version of df is:\n",
      "              A             B             C             D\n",
      "0  1.171914e+16  8.886111e+06  2.202647e+04  1.446257e+12\n",
      "1  3.584913e+09  1.318816e+09  3.584913e+09  1.202604e+06\n",
      "2  3.493427e+19  6.398435e+17  2.415495e+07  4.424134e+05\n",
      "3  2.146436e+14  6.565997e+07  1.285160e+19  7.389056e+00\n"
     ]
    }
   ],
   "source": [
    "# I can use the ufuncs in NumPy to modify the series or dataframes \n",
    "print(f'The series being squared is: \\n{np.power(series_1,2)}')\n",
    "\n",
    "# The dataframe raised to exponential \n",
    "print(f'The exponential version of df is:\\n{np.exp(df_1)}')"
   ]
  },
  {
   "cell_type": "markdown",
   "metadata": {},
   "source": [
    "## B. Ufuncs: Index Alignment\n",
    "### B.1 Index Alignment in Series"
   ]
  },
  {
   "cell_type": "code",
   "execution_count": 5,
   "metadata": {},
   "outputs": [
    {
     "name": "stdout",
     "output_type": "stream",
     "text": [
      "California    3134962\n",
      "Texas         1852682\n",
      "New York      1766405\n",
      "Name: gdp, dtype: int64\n",
      "California     97\n",
      "Texas          41\n",
      "Florida       155\n",
      "Name: population_density, dtype: int64\n",
      "California    32319.195876\n",
      "Florida                NaN\n",
      "New York               NaN\n",
      "Texas         45187.365854\n",
      "dtype: float64\n"
     ]
    }
   ],
   "source": [
    "# Dictionary for GDP of states (in millions of dollars)\n",
    "gdp = pd.Series({'California': 3134962, 'Texas': 1852682, 'New York': 1766405}, name='gdp')\n",
    "\n",
    "# Dictionary for population\n",
    "population = pd.Series({'California': 97, 'Texas': 41, 'Florida': 155}, name='population_density')\n",
    "\n",
    "print(gdp)\n",
    "print(population)\n",
    "\n",
    "# let us calculate gdp per capita \n",
    "print(gdp/population)"
   ]
  },
  {
   "cell_type": "markdown",
   "metadata": {},
   "source": [
    "So, clearly, an `union` is made of the indices and then if there exists an item for which the other does not have an entry, it is marked as `NaN`"
   ]
  },
  {
   "cell_type": "code",
   "execution_count": 6,
   "metadata": {},
   "outputs": [
    {
     "data": {
      "text/plain": [
       "California    3.231920e+04\n",
       "Florida       0.000000e+00\n",
       "New York               inf\n",
       "Texas         4.518737e+04\n",
       "dtype: float64"
      ]
     },
     "execution_count": 6,
     "metadata": {},
     "output_type": "execute_result"
    }
   ],
   "source": [
    "# we can add a separate arg namely, fill_vlaue to byepass the NaN by pandas \n",
    "gdp_percapita =  gdp.divide(population, fill_value=0)\n",
    "gdp_percapita"
   ]
  },
  {
   "cell_type": "markdown",
   "metadata": {},
   "source": [
    "### B.3 Index Alignment in DataFrame objects "
   ]
  },
  {
   "cell_type": "code",
   "execution_count": 7,
   "metadata": {},
   "outputs": [],
   "source": [
    "# DataFrame for area (in square kilometers)\n",
    "area1_df = pd.DataFrame({'Area (km^2)': [423967, 695662, 170312]},\n",
    "                       index=['California', 'Texas', 'Florida'])\n",
    "\n",
    "# DataFrame for population density (people per square kilometer)\n",
    "area2_df = pd.DataFrame({'Area (km^2)': [423967, 695662, 180312]},\n",
    "                          index=['California', 'Texas', 'New York'])"
   ]
  },
  {
   "cell_type": "code",
   "execution_count": 8,
   "metadata": {},
   "outputs": [
    {
     "data": {
      "text/html": [
       "<div>\n",
       "<style scoped>\n",
       "    .dataframe tbody tr th:only-of-type {\n",
       "        vertical-align: middle;\n",
       "    }\n",
       "\n",
       "    .dataframe tbody tr th {\n",
       "        vertical-align: top;\n",
       "    }\n",
       "\n",
       "    .dataframe thead th {\n",
       "        text-align: right;\n",
       "    }\n",
       "</style>\n",
       "<table border=\"1\" class=\"dataframe\">\n",
       "  <thead>\n",
       "    <tr style=\"text-align: right;\">\n",
       "      <th></th>\n",
       "      <th>Area (km^2)</th>\n",
       "    </tr>\n",
       "  </thead>\n",
       "  <tbody>\n",
       "    <tr>\n",
       "      <th>California</th>\n",
       "      <td>847934.0</td>\n",
       "    </tr>\n",
       "    <tr>\n",
       "      <th>Florida</th>\n",
       "      <td>NaN</td>\n",
       "    </tr>\n",
       "    <tr>\n",
       "      <th>New York</th>\n",
       "      <td>NaN</td>\n",
       "    </tr>\n",
       "    <tr>\n",
       "      <th>Texas</th>\n",
       "      <td>1391324.0</td>\n",
       "    </tr>\n",
       "  </tbody>\n",
       "</table>\n",
       "</div>"
      ],
      "text/plain": [
       "            Area (km^2)\n",
       "California     847934.0\n",
       "Florida             NaN\n",
       "New York            NaN\n",
       "Texas         1391324.0"
      ]
     },
     "execution_count": 8,
     "metadata": {},
     "output_type": "execute_result"
    }
   ],
   "source": [
    "area1_df.add(area2_df)"
   ]
  },
  {
   "cell_type": "markdown",
   "metadata": {},
   "source": [
    "So, for a DataFrame, the alignment takes place for both the column and the row indices!"
   ]
  },
  {
   "cell_type": "markdown",
   "metadata": {},
   "source": [
    "## C. Ufuncs: Operations between DataFrame and Series \n",
    "\n",
    "Here, too the alignment is maintained too! \n",
    "\n",
    "Also the operations follow the broadcasting rules of NumPy\n",
    "\n"
   ]
  },
  {
   "cell_type": "code",
   "execution_count": 9,
   "metadata": {},
   "outputs": [
    {
     "name": "stdout",
     "output_type": "stream",
     "text": [
      "    A   B   C   D\n",
      "0  38  47  13  10\n",
      "1  39  41  25   7\n",
      "2  41  25   7   6\n",
      "3  20  34  20  42\n",
      "The df after subtracting the first row is: \n",
      "    A   B   C   D\n",
      "0   0   0   0   0\n",
      "1   1  -6  12  -3\n",
      "2   3 -22  -6  -4\n",
      "3 -18 -13   7  32\n",
      "The df after subtracting the first column: \n",
      "   A   B   C   D\n",
      "0  0   9 -25 -28\n",
      "1  0   2 -14 -32\n",
      "2  0 -16 -34 -35\n",
      "3  0  14   0  22\n"
     ]
    }
   ],
   "source": [
    "rng = np.random.default_rng(10)\n",
    "\n",
    "df = pd.DataFrame(rng.integers(50, size=(4,4)), columns=['A','B','C','D'])\n",
    "print(df)\n",
    "\n",
    "print(f'The df after subtracting the first row is: \\n{df-df.iloc[0,]}')\n",
    "\n",
    "print(f'The df after subtracting the first column: \\n{df.subtract(df[\"A\"], axis=0)}') # axis is 0 since we subtract each column along the horizontal axis "
   ]
  },
  {
   "cell_type": "markdown",
   "metadata": {},
   "source": [
    "END!"
   ]
  }
 ],
 "metadata": {
  "kernelspec": {
   "display_name": "base",
   "language": "python",
   "name": "python3"
  },
  "language_info": {
   "codemirror_mode": {
    "name": "ipython",
    "version": 3
   },
   "file_extension": ".py",
   "mimetype": "text/x-python",
   "name": "python",
   "nbconvert_exporter": "python",
   "pygments_lexer": "ipython3",
   "version": "3.11.7"
  }
 },
 "nbformat": 4,
 "nbformat_minor": 2
}
