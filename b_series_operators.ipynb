{
 "cells": [
  {
   "cell_type": "markdown",
   "metadata": {},
   "source": [
    "# Operators in Series"
   ]
  },
  {
   "cell_type": "code",
   "execution_count": 2,
   "metadata": {},
   "outputs": [],
   "source": [
    "import pandas as pd\n",
    "import numpy as np"
   ]
  },
  {
   "cell_type": "code",
   "execution_count": 6,
   "metadata": {},
   "outputs": [
    {
     "data": {
      "text/plain": [
       "0     35.0\n",
       "1     79.0\n",
       "2     61.0\n",
       "3     89.0\n",
       "4    112.0\n",
       "5     27.0\n",
       "6     66.0\n",
       "dtype: float64"
      ]
     },
     "metadata": {},
     "output_type": "display_data"
    },
    {
     "data": {
      "text/plain": [
       "0    11.0\n",
       "1    11.0\n",
       "2   -49.0\n",
       "3   -45.0\n",
       "4   -44.0\n",
       "5   -17.0\n",
       "6   -66.0\n",
       "dtype: float64"
      ]
     },
     "metadata": {},
     "output_type": "display_data"
    },
    {
     "data": {
      "text/plain": [
       "0     276.0\n",
       "1    1530.0\n",
       "2     330.0\n",
       "3    1474.0\n",
       "4    2652.0\n",
       "5     110.0\n",
       "6       NaN\n",
       "dtype: float64"
      ]
     },
     "metadata": {},
     "output_type": "display_data"
    },
    {
     "data": {
      "text/plain": [
       "0    1.916667\n",
       "1    1.323529\n",
       "2    0.109091\n",
       "3    0.328358\n",
       "4    0.435897\n",
       "5    0.227273\n",
       "6    0.015152\n",
       "dtype: float64"
      ]
     },
     "metadata": {},
     "output_type": "display_data"
    }
   ],
   "source": [
    "series_1 = pd.Series(data=[12,34,55,67,78,22,66])\n",
    "series_2 = pd.Series(data=[23,45,6,22,34,5, np.nan])\n",
    "\n",
    "# add\n",
    "display(series_1.add(series_2, fill_value=0))\n",
    "\n",
    "# subtract\n",
    "display(series_2.sub(series_1, fill_value=0))\n",
    "\n",
    "# multiply\n",
    "display(series_1.mul(series_2)) # withoot fill_value gives NaN in index 4\n",
    "\n",
    "# division\n",
    "display(series_2.div(series_1, fill_value=1))"
   ]
  },
  {
   "cell_type": "markdown",
   "metadata": {},
   "source": [
    "**NOTE**\n",
    "In division, the fill_value is 1. Hence, in index 4, the value we get is $\\frac{1}{66}$"
   ]
  },
  {
   "cell_type": "code",
   "execution_count": null,
   "metadata": {},
   "outputs": [
    {
     "data": {
      "text/plain": [
       "0    12.0\n",
       "1    34.0\n",
       "2     1.0\n",
       "3     1.0\n",
       "4    10.0\n",
       "5     2.0\n",
       "6     0.0\n",
       "dtype: float64"
      ]
     },
     "metadata": {},
     "output_type": "display_data"
    },
    {
     "data": {
      "text/plain": [
       "0    0.0\n",
       "1    0.0\n",
       "2    9.0\n",
       "3    3.0\n",
       "4    2.0\n",
       "5    4.0\n",
       "6    NaN\n",
       "dtype: float64"
      ]
     },
     "metadata": {},
     "output_type": "display_data"
    },
    {
     "data": {
      "text/plain": [
       "0    6.624737e+24\n",
       "1    8.251849e+68\n",
       "2    2.768064e+10\n",
       "3    1.491577e+40\n",
       "4    2.143959e+64\n",
       "5    5.153632e+06\n",
       "6    1.000000e+00\n",
       "dtype: float64"
      ]
     },
     "metadata": {},
     "output_type": "display_data"
    }
   ],
   "source": [
    "# modulo division\n",
    "display(series_1.mod(series_2, fill_value=1))\n",
    "\n",
    "# Floor division (//)\n",
    "display(series_1.floordiv(series_2)) # series_1//series_2\n",
    "\n",
    "# power\n",
    "display(series_1.pow(series_2, fill_value=0)) # you can raise to a constant power too!"
   ]
  },
  {
   "cell_type": "code",
   "execution_count": null,
   "metadata": {},
   "outputs": [
    {
     "data": {
      "text/plain": [
       "0    False\n",
       "1    False\n",
       "2    False\n",
       "3    False\n",
       "4    False\n",
       "5    False\n",
       "6    False\n",
       "dtype: bool"
      ]
     },
     "metadata": {},
     "output_type": "display_data"
    },
    {
     "data": {
      "text/plain": [
       "0    True\n",
       "1    True\n",
       "2    True\n",
       "3    True\n",
       "4    True\n",
       "5    True\n",
       "6    True\n",
       "dtype: bool"
      ]
     },
     "metadata": {},
     "output_type": "display_data"
    },
    {
     "data": {
      "text/plain": [
       "0    False\n",
       "1    False\n",
       "2     True\n",
       "3     True\n",
       "4     True\n",
       "5     True\n",
       "6     True\n",
       "dtype: bool"
      ]
     },
     "metadata": {},
     "output_type": "display_data"
    },
    {
     "data": {
      "text/plain": [
       "0    False\n",
       "1    False\n",
       "2     True\n",
       "3     True\n",
       "4     True\n",
       "5     True\n",
       "6     True\n",
       "dtype: bool"
      ]
     },
     "metadata": {},
     "output_type": "display_data"
    }
   ],
   "source": [
    "# boolean operations \n",
    "\n",
    "# ==\n",
    "display(series_1.eq(series_2))\n",
    "\n",
    "# !=\n",
    "display(series_2.ne(series_1))\n",
    "\n",
    "# >\n",
    "display(series_1.gt(series_2, fill_value=0))\n",
    "\n",
    "# >=\n",
    "display(series_1.ge(series_2, fill_value=0))\n",
    "\n",
    "# similarly we have 'lt' for < and 'le' for <="
   ]
  },
  {
   "cell_type": "code",
   "execution_count": null,
   "metadata": {},
   "outputs": [
    {
     "data": {
      "text/plain": [
       "0     True\n",
       "1     True\n",
       "2    False\n",
       "3    False\n",
       "4    False\n",
       "5    False\n",
       "6     True\n",
       "dtype: bool"
      ]
     },
     "metadata": {},
     "output_type": "display_data"
    },
    {
     "data": {
      "text/plain": [
       "0    False\n",
       "1    False\n",
       "2     True\n",
       "3     True\n",
       "4     True\n",
       "5     True\n",
       "6    False\n",
       "dtype: bool"
      ]
     },
     "metadata": {},
     "output_type": "display_data"
    }
   ],
   "source": [
    "# not s \n",
    "display(np.invert(series_2.lt(series_1)))\n",
    "\n",
    "# you can see this inversion using the following example\n",
    "display(series_2.lt(series_1))"
   ]
  },
  {
   "cell_type": "code",
   "execution_count": null,
   "metadata": {},
   "outputs": [
    {
     "data": {
      "text/plain": [
       "0    False\n",
       "1    False\n",
       "2    False\n",
       "3    False\n",
       "4    False\n",
       "5    False\n",
       "6    False\n",
       "dtype: bool"
      ]
     },
     "metadata": {},
     "output_type": "display_data"
    },
    {
     "data": {
      "text/plain": [
       "0    True\n",
       "1    True\n",
       "2    True\n",
       "3    True\n",
       "4    True\n",
       "5    True\n",
       "6    True\n",
       "dtype: bool"
      ]
     },
     "metadata": {},
     "output_type": "display_data"
    },
    {
     "data": {
      "text/plain": [
       "0     True\n",
       "1     True\n",
       "2    False\n",
       "3    False\n",
       "4    False\n",
       "5    False\n",
       "6     True\n",
       "dtype: bool"
      ]
     },
     "metadata": {},
     "output_type": "display_data"
    }
   ],
   "source": [
    "# AND operator \n",
    "display(np.logical_and(np.invert(series_2.lt(series_1)),\n",
    "               series_2.lt(series_1)))\n",
    "\n",
    "# OR operator \n",
    "display(np.logical_or(np.invert(series_2.lt(series_1)),\n",
    "               series_2.lt(series_1)))\n",
    "\n",
    "# NOT operator \n",
    "display(np.logical_not(series_2.lt(series_1))) # same as the negation"
   ]
  },
  {
   "cell_type": "markdown",
   "metadata": {},
   "source": [
    "# Broadcasting\n",
    " In Pandas, **broadcasting** refers to the ability to apply operations between objects of different shapes in a way that \"broadcasts\" the smaller object across the larger one, making element-wise operations more efficient. This concept is particularly useful when performing arithmetic operations between a Series and a scalar, or between two Series of unequal lengths.\n",
    "\n",
    "Here's how broadcasting works with Pandas Series:\n",
    "\n",
    "### 1. **Broadcasting with Scalars**\n",
    "   When you perform operations between a Pandas Series and a scalar (e.g., a single integer or float), the scalar is broadcasted across each element of the Series. For example:\n",
    "\n",
    "   ```python\n",
    "   import pandas as pd\n",
    "\n",
    "   series = pd.Series([1, 2, 3, 4])\n",
    "   result = series + 10  # Add 10 to each element in the Series\n",
    "   print(result)\n",
    "   ```\n",
    "\n",
    "   **Output**:\n",
    "   ```\n",
    "   0    11\n",
    "   1    12\n",
    "   2    13\n",
    "   3    14\n",
    "   dtype: int64\n",
    "   ```\n",
    "\n",
    "   Here, `10` is added to each element in the Series.\n",
    "\n",
    "### 2. **Broadcasting with Another Series**\n",
    "   When performing operations between two Series of different lengths, Pandas tries to align them by their indexes. If one Series is shorter than the other, the missing values in the shorter Series are filled with `NaN`, making the resulting Series contain `NaN` values where no corresponding data exists.\n",
    "\n",
    "   ```python\n",
    "   series1 = pd.Series([1, 2, 3])\n",
    "   series2 = pd.Series([10, 20, 30, 40])\n",
    "\n",
    "   result = series1 + series2\n",
    "   print(result)\n",
    "   ```\n",
    "\n",
    "   **Output**:\n",
    "   ```\n",
    "   0    11.0\n",
    "   1    22.0\n",
    "   2    33.0\n",
    "   3     NaN\n",
    "   dtype: float64\n",
    "   ```\n",
    "\n",
    "   In this case, the shorter `series1` is \"broadcasted\" across `series2`, with missing values filled as `NaN`.\n",
    "\n",
    "### 3. **Using `.fillna()` for Missing Values**\n",
    "   You can handle these `NaN` values by using `.fillna()` to replace them with a value:\n",
    "\n",
    "   ```python\n",
    "   result = (series1 + series2).fillna(0)\n",
    "   print(result)\n",
    "   ```\n",
    "\n",
    "   **Output**:\n",
    "   ```\n",
    "   0    11.0\n",
    "   1    22.0\n",
    "   2    33.0\n",
    "   3     0.0\n",
    "   dtype: float64\n",
    "   ```\n",
    "\n",
    "### 4. **Benefits of Broadcasting**\n",
    "   - Efficient computation without explicitly iterating over elements.\n",
    "   - Allows you to apply scalar values or Series operations in a flexible, efficient way.\n",
    "   - Maintains alignment with indexes, making data manipulation easier in multi-step computations.\n",
    "\n",
    "Broadcasting is a powerful tool that lets you quickly and easily perform operations across Series of different lengths or with scalar values, which is especially useful in data transformation and analysis tasks."
   ]
  }
 ],
 "metadata": {
  "kernelspec": {
   "display_name": "base",
   "language": "python",
   "name": "python3"
  },
  "language_info": {
   "codemirror_mode": {
    "name": "ipython",
    "version": 3
   },
   "file_extension": ".py",
   "mimetype": "text/x-python",
   "name": "python",
   "nbconvert_exporter": "python",
   "pygments_lexer": "ipython3",
   "version": "3.11.7"
  }
 },
 "nbformat": 4,
 "nbformat_minor": 2
}
