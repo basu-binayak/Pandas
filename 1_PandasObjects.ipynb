{
 "cells": [
  {
   "cell_type": "markdown",
   "metadata": {},
   "source": [
    "# A. The Pandas Series Object\n",
    "A Pandas Series Object is a **one-dimensional** ***labeled array*** capable of **holding any type of data**. Because the series is a one-dimensional object, it has a ***single axis - the index***. The main property of a single axis object is that ***data is arranged in a linear fashion*** like that of lists or arrays. "
   ]
  },
  {
   "cell_type": "code",
   "execution_count": 1,
   "metadata": {},
   "outputs": [],
   "source": [
    "# import the libraries \n",
    "import pandas as pd"
   ]
  },
  {
   "cell_type": "markdown",
   "metadata": {},
   "source": [
    "## A.1 Create a series from a list\n",
    "Let us create a Pandas Series object from a list!"
   ]
  },
  {
   "cell_type": "code",
   "execution_count": null,
   "metadata": {},
   "outputs": [
    {
     "name": "stdout",
     "output_type": "stream",
     "text": [
      "0    10\n",
      "1    20\n",
      "2    30\n",
      "3    40\n",
      "dtype: int64\n"
     ]
    }
   ],
   "source": [
    "data = [10,20,30,40]\n",
    "series = pd.Series(data=data)\n",
    "\n",
    "print(series)"
   ]
  },
  {
   "cell_type": "markdown",
   "metadata": {},
   "source": [
    "#### Explanation:\n",
    "- The data list contains the values `[10, 20, 30, 40]`.\n",
    "- The index of the Series is automatically generated as `0, 1, 2, 3`, corresponding to each value.\n",
    "\n",
    "#### NOTE\n",
    "- The index is not part of the values - the index is called *axis*\n",
    "- The values of the index is called the *axis labels*\n",
    "\n",
    "Thus, a Series has three attributes namely:\n",
    "- values \n",
    "- index\n",
    "- name (optional) - we have not asigned a name to our series yet! \n",
    "\n",
    "Let us now try to see the attributes for the above series!"
   ]
  },
  {
   "cell_type": "code",
   "execution_count": 7,
   "metadata": {},
   "outputs": [
    {
     "name": "stdout",
     "output_type": "stream",
     "text": [
      "The values of the series are: [10 20 30 40]\n",
      "The index of the series is:RangeIndex(start=0, stop=4, step=1)\n",
      "he current name of the series is:Integer Series of 10x\n",
      "The name os set for the series. The current name is: Integer Series of 10x\n",
      "0    10\n",
      "1    20\n",
      "2    30\n",
      "3    40\n",
      "Name: Integer Series of 10x, dtype: int64\n"
     ]
    }
   ],
   "source": [
    "print(f'The values of the series are: {series.values}') # values attribute provide a list of the values of the series object \n",
    "\n",
    "print(f\"The index of the series is:{series.index}\") # the index here is a RangeIndex object which can be iterated over \n",
    "\n",
    "# let us now give a name to our series. Currently there is no name assigned to the series object\n",
    "print(f\"he current name of the series is:{series.name}\")\n",
    "\n",
    "# set the name \n",
    "series.name = 'Integer Series of 10x'\n",
    "print(f'The name os set for the series. The current name is: {series.name}')\n",
    "\n",
    "print(series)"
   ]
  },
  {
   "cell_type": "markdown",
   "metadata": {},
   "source": [
    "#### How is `series` object differrent from `NumPy` one dimensional array?\n",
    "\n",
    "- The short answer to this is **Double Abstraction of Index**\n",
    "\n",
    "Let us now elaborate on this!\n",
    "**Index** provides two level of abstraction.\n",
    "- The **first level of abstraction** - index allows you to label data points and hence making them easy to reference!\n",
    "- The **second level of abstraction** - index, as a built-in data structure allows you to modify and use a custom index independent of the values. This is not present in a `NumPy` one dimensional data structure!"
   ]
  },
  {
   "cell_type": "code",
   "execution_count": 8,
   "metadata": {},
   "outputs": [
    {
     "name": "stdout",
     "output_type": "stream",
     "text": [
      "a    10\n",
      "b    20\n",
      "c    30\n",
      "d    40\n",
      "dtype: int64\n"
     ]
    }
   ],
   "source": [
    "# Creating a Series with a custom index\n",
    "data = [10, 20, 30, 40]\n",
    "index = ['a', 'b', 'c', 'd']\n",
    "\n",
    "series = pd.Series(data=data, index=index)\n",
    "\n",
    "print(series)"
   ]
  },
  {
   "cell_type": "markdown",
   "metadata": {},
   "source": [
    "## A.2 Series as a specialized Dictionary"
   ]
  },
  {
   "cell_type": "code",
   "execution_count": 9,
   "metadata": {},
   "outputs": [
    {
     "name": "stdout",
     "output_type": "stream",
     "text": [
      "a    10\n",
      "b    20\n",
      "c    30\n",
      "d    40\n",
      "dtype: int64\n"
     ]
    }
   ],
   "source": [
    "# Creating a dictionary\n",
    "data_dict = {'a': 10, 'b': 20, 'c': 30, 'd': 40}\n",
    "\n",
    "# Converting the dictionary to a Series\n",
    "# keys of the dictionary becomes the index and the values become the data points in the pandas Series object \n",
    "series_from_dict = pd.Series(data_dict)\n",
    "\n",
    "print(series_from_dict)"
   ]
  },
  {
   "cell_type": "markdown",
   "metadata": {},
   "source": [
    "## A.3 Some properties of Series\n",
    "\n",
    "### A.3.1 Series is Non-Homogenous"
   ]
  },
  {
   "cell_type": "code",
   "execution_count": 10,
   "metadata": {},
   "outputs": [
    {
     "name": "stdout",
     "output_type": "stream",
     "text": [
      "a              10\n",
      "b    Harry Potter\n",
      "c           False\n",
      "d    Lionel Messi\n",
      "dtype: object\n"
     ]
    }
   ],
   "source": [
    "# The actual data (or values) for a series does not have to be numeric or homogeneous\n",
    "data_dict = {'a': 10, 'b': 'Harry Potter', 'c': False, 'd': 'Lionel Messi'}\n",
    "\n",
    "# Converting the dictionary to a Series\n",
    "series_from_dict = pd.Series(data_dict)\n",
    "\n",
    "print(series_from_dict)"
   ]
  },
  {
   "cell_type": "markdown",
   "metadata": {},
   "source": [
    "#### NOTE\n",
    "\n",
    "The datatype of the Series is now *object* - i.e. a python object.\n",
    "\n",
    "- The object data type is also used for a series with string values. In addition, it is also used for values that have heterogeneous or mixed types."
   ]
  },
  {
   "cell_type": "markdown",
   "metadata": {},
   "source": [
    "### A.3.2 Can incorporate null values inside series object "
   ]
  },
  {
   "cell_type": "code",
   "execution_count": 11,
   "metadata": {},
   "outputs": [
    {
     "data": {
      "text/plain": [
       "0    12.0\n",
       "1    20.0\n",
       "2    30.0\n",
       "3     NaN\n",
       "dtype: float64"
      ]
     },
     "execution_count": 11,
     "metadata": {},
     "output_type": "execute_result"
    }
   ],
   "source": [
    "import numpy as np\n",
    "\n",
    "# create a series with null values \n",
    "nan_series = pd.Series(data=[12,20,30,np.nan])\n",
    "\n",
    "nan_series"
   ]
  },
  {
   "cell_type": "markdown",
   "metadata": {},
   "source": [
    "**NOTE**\n",
    "- When we have null values inside a series, the `size` attribute of the series object returns the size of the array including the null values! \n",
    "- However, if, instead we use a `count()` method on the object, it returns only the count of the non null values\n",
    "\n",
    "Let us see them with the above example!\n"
   ]
  },
  {
   "cell_type": "code",
   "execution_count": 12,
   "metadata": {},
   "outputs": [
    {
     "name": "stdout",
     "output_type": "stream",
     "text": [
      "The series will null values is:\n",
      "0    12.0\n",
      "1    20.0\n",
      "2    30.0\n",
      "3     NaN\n",
      "dtype: float64\n",
      "The size of the series will null values is:4\n",
      "The count of the non null values inside the series object is:3\n"
     ]
    }
   ],
   "source": [
    "print(f'The series will null values is:\\n{nan_series}')\n",
    "print(f'The size of the series will null values is:{nan_series.size}')\n",
    "print(f'The count of the non null values inside the series object is:{nan_series.count()}')"
   ]
  },
  {
   "cell_type": "markdown",
   "metadata": {},
   "source": [
    "# B. Pandas DataFrame Object\n",
    "\n",
    "- If a **Series** is an ***analog of a one-dimensional array with explicit indices***, a **DataFrame** is an ***analog of a two-dimensional array with explicit row and column indices***. Just as you might think of a two-dimensional array as an ordered sequence of aligned one dimensional columns, you can ***think of a DataFrame as a sequence of aligned Series objects***. Here, by “aligned” we mean that they share the same index.\n",
    "    > Source: Python Data Science Handbook\n",
    "\n",
    "## B.1 Creating a DataFrame\n",
    "\n",
    "Let us create a simple pandas DataFrame object!"
   ]
  },
  {
   "cell_type": "code",
   "execution_count": null,
   "metadata": {},
   "outputs": [],
   "source": []
  }
 ],
 "metadata": {
  "kernelspec": {
   "display_name": "base",
   "language": "python",
   "name": "python3"
  },
  "language_info": {
   "codemirror_mode": {
    "name": "ipython",
    "version": 3
   },
   "file_extension": ".py",
   "mimetype": "text/x-python",
   "name": "python",
   "nbconvert_exporter": "python",
   "pygments_lexer": "ipython3",
   "version": "3.11.7"
  }
 },
 "nbformat": 4,
 "nbformat_minor": 2
}
