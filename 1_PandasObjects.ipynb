{
 "cells": [
  {
   "cell_type": "markdown",
   "metadata": {},
   "source": [
    "# A. The Pandas Series Object\n",
    "A Pandas Series Object is a **one-dimensional** ***labeled array*** capable of **holding any type of data**. Because the series is a one-dimensional object, it has a ***single axis - the index***. The main property of a single axis object is that ***data is arranged in a linear fashion*** like that of lists or arrays. "
   ]
  },
  {
   "cell_type": "code",
   "execution_count": 1,
   "metadata": {},
   "outputs": [],
   "source": [
    "# import the libraries \n",
    "import pandas as pd"
   ]
  },
  {
   "cell_type": "markdown",
   "metadata": {},
   "source": [
    "## A.1 Create a series from a list\n",
    "Let us create a Pandas Series object from a list!"
   ]
  },
  {
   "cell_type": "code",
   "execution_count": 2,
   "metadata": {},
   "outputs": [
    {
     "name": "stdout",
     "output_type": "stream",
     "text": [
      "0    10\n",
      "1    20\n",
      "2    30\n",
      "3    40\n",
      "dtype: int64\n"
     ]
    }
   ],
   "source": [
    "data = [10,20,30,40]\n",
    "series = pd.Series(data=data)\n",
    "\n",
    "print(series)"
   ]
  },
  {
   "cell_type": "markdown",
   "metadata": {},
   "source": [
    "#### Explanation:\n",
    "- The data list contains the values `[10, 20, 30, 40]`.\n",
    "- The index of the Series is automatically generated as `0, 1, 2, 3`, corresponding to each value.\n",
    "\n",
    "#### NOTE\n",
    "- The index is not part of the values - the index is called *axis*\n",
    "- The values of the index is called the *axis labels*\n",
    "\n",
    "Thus, a Series has three attributes namely:\n",
    "- values \n",
    "- index\n",
    "- name (optional) - we have not asigned a name to our series yet! \n",
    "\n",
    "Let us now try to see the attributes for the above series!"
   ]
  },
  {
   "cell_type": "code",
   "execution_count": 3,
   "metadata": {},
   "outputs": [
    {
     "name": "stdout",
     "output_type": "stream",
     "text": [
      "The values of the series are: [10 20 30 40]\n",
      "The index of the series is:RangeIndex(start=0, stop=4, step=1)\n",
      "he current name of the series is:None\n",
      "The name os set for the series. The current name is: Integer Series of 10x\n",
      "0    10\n",
      "1    20\n",
      "2    30\n",
      "3    40\n",
      "Name: Integer Series of 10x, dtype: int64\n"
     ]
    }
   ],
   "source": [
    "print(f'The values of the series are: {series.values}') # values attribute provide a list of the values of the series object \n",
    "\n",
    "print(f\"The index of the series is:{series.index}\") # the index here is a RangeIndex object which can be iterated over \n",
    "\n",
    "# let us now give a name to our series. Currently there is no name assigned to the series object\n",
    "print(f\"he current name of the series is:{series.name}\")\n",
    "\n",
    "# set the name \n",
    "series.name = 'Integer Series of 10x'\n",
    "print(f'The name os set for the series. The current name is: {series.name}')\n",
    "\n",
    "print(series)"
   ]
  },
  {
   "cell_type": "markdown",
   "metadata": {},
   "source": [
    "#### How is `series` object differrent from `NumPy` one dimensional array?\n",
    "\n",
    "- The short answer to this is **Double Abstraction of Index**\n",
    "\n",
    "Let us now elaborate on this!\n",
    "**Index** provides two level of abstraction.\n",
    "- The **first level of abstraction** - index allows you to label data points and hence making them easy to reference!\n",
    "- The **second level of abstraction** - index, as a built-in data structure allows you to modify and use a custom index independent of the values. This is not present in a `NumPy` one dimensional data structure!"
   ]
  },
  {
   "cell_type": "code",
   "execution_count": 8,
   "metadata": {},
   "outputs": [
    {
     "name": "stdout",
     "output_type": "stream",
     "text": [
      "a    10\n",
      "b    20\n",
      "c    30\n",
      "d    40\n",
      "dtype: int64\n"
     ]
    }
   ],
   "source": [
    "# Creating a Series with a custom index\n",
    "data = [10, 20, 30, 40]\n",
    "index = ['a', 'b', 'c', 'd']\n",
    "\n",
    "series = pd.Series(data=data, index=index)\n",
    "\n",
    "print(series)"
   ]
  },
  {
   "cell_type": "code",
   "execution_count": 4,
   "metadata": {},
   "outputs": [
    {
     "name": "stdout",
     "output_type": "stream",
     "text": [
      "a    10.0\n",
      "b    20.0\n",
      "c    30.0\n",
      "d    40.0\n",
      "dtype: float64\n"
     ]
    }
   ],
   "source": [
    "# I can also provide a data type to the Series object \n",
    "\n",
    "# Creating a Series with a custom index\n",
    "data = [10, 20, 30, 40]\n",
    "index = ['a', 'b', 'c', 'd']\n",
    "\n",
    "series = pd.Series(data=data, index=index, dtype=\"float\")\n",
    "\n",
    "print(series)"
   ]
  },
  {
   "cell_type": "markdown",
   "metadata": {},
   "source": [
    "## A.2 Series as a specialized Dictionary"
   ]
  },
  {
   "cell_type": "code",
   "execution_count": 9,
   "metadata": {},
   "outputs": [
    {
     "name": "stdout",
     "output_type": "stream",
     "text": [
      "a    10\n",
      "b    20\n",
      "c    30\n",
      "d    40\n",
      "dtype: int64\n"
     ]
    }
   ],
   "source": [
    "# Creating a dictionary\n",
    "data_dict = {'a': 10, 'b': 20, 'c': 30, 'd': 40}\n",
    "\n",
    "# Converting the dictionary to a Series\n",
    "# keys of the dictionary becomes the index and the values become the data points in the pandas Series object \n",
    "series_from_dict = pd.Series(data_dict)\n",
    "\n",
    "print(series_from_dict)"
   ]
  },
  {
   "cell_type": "markdown",
   "metadata": {},
   "source": [
    "## A.3 Some properties of Series\n",
    "\n",
    "### A.3.1 Series is Non-Homogenous"
   ]
  },
  {
   "cell_type": "code",
   "execution_count": 10,
   "metadata": {},
   "outputs": [
    {
     "name": "stdout",
     "output_type": "stream",
     "text": [
      "a              10\n",
      "b    Harry Potter\n",
      "c           False\n",
      "d    Lionel Messi\n",
      "dtype: object\n"
     ]
    }
   ],
   "source": [
    "# The actual data (or values) for a series does not have to be numeric or homogeneous\n",
    "data_dict = {'a': 10, 'b': 'Harry Potter', 'c': False, 'd': 'Lionel Messi'}\n",
    "\n",
    "# Converting the dictionary to a Series\n",
    "series_from_dict = pd.Series(data_dict)\n",
    "\n",
    "print(series_from_dict)"
   ]
  },
  {
   "cell_type": "markdown",
   "metadata": {},
   "source": [
    "#### NOTE\n",
    "\n",
    "The datatype of the Series is now *object* - i.e. a python object.\n",
    "\n",
    "- The object data type is also used for a series with string values. In addition, it is also used for values that have heterogeneous or mixed types."
   ]
  },
  {
   "cell_type": "markdown",
   "metadata": {},
   "source": [
    "### A.3.2 Can incorporate null values inside series object "
   ]
  },
  {
   "cell_type": "code",
   "execution_count": 11,
   "metadata": {},
   "outputs": [
    {
     "data": {
      "text/plain": [
       "0    12.0\n",
       "1    20.0\n",
       "2    30.0\n",
       "3     NaN\n",
       "dtype: float64"
      ]
     },
     "execution_count": 11,
     "metadata": {},
     "output_type": "execute_result"
    }
   ],
   "source": [
    "import numpy as np\n",
    "\n",
    "# create a series with null values \n",
    "nan_series = pd.Series(data=[12,20,30,np.nan])\n",
    "\n",
    "nan_series"
   ]
  },
  {
   "cell_type": "markdown",
   "metadata": {},
   "source": [
    "**NOTE**\n",
    "- When we have null values inside a series, the `size` attribute of the series object returns the size of the array including the null values! \n",
    "- However, if, instead we use a `count()` method on the object, it returns only the count of the non null values\n",
    "\n",
    "Let us see them with the above example!\n"
   ]
  },
  {
   "cell_type": "code",
   "execution_count": 12,
   "metadata": {},
   "outputs": [
    {
     "name": "stdout",
     "output_type": "stream",
     "text": [
      "The series will null values is:\n",
      "0    12.0\n",
      "1    20.0\n",
      "2    30.0\n",
      "3     NaN\n",
      "dtype: float64\n",
      "The size of the series will null values is:4\n",
      "The count of the non null values inside the series object is:3\n"
     ]
    }
   ],
   "source": [
    "print(f'The series will null values is:\\n{nan_series}')\n",
    "print(f'The size of the series will null values is:{nan_series.size}')\n",
    "print(f'The count of the non null values inside the series object is:{nan_series.count()}')"
   ]
  },
  {
   "cell_type": "markdown",
   "metadata": {},
   "source": [
    "# B. Pandas DataFrame Object\n",
    "\n",
    "If a **Series** is an ***analog of a one-dimensional array with explicit indices***, a **DataFrame** is an ***analog of a two-dimensional array with explicit row and column indices***. Just as you might think of a two-dimensional array as an ordered sequence of aligned one dimensional columns, you can ***think of a DataFrame as a sequence of aligned Series objects***. Here, by “aligned” we mean that they share the same index.\n",
    "\n",
    "## B.1 Creating a DataFrame from a Dictionary\n",
    "\n",
    "Let us create a simple pandas DataFrame object!"
   ]
  },
  {
   "cell_type": "code",
   "execution_count": 5,
   "metadata": {},
   "outputs": [
    {
     "name": "stdout",
     "output_type": "stream",
     "text": [
      "   Age     Name\n",
      "0   20     Ajay\n",
      "1   34     Shin\n",
      "2   56   Freddy\n",
      "3   78  Michael\n",
      "<class 'pandas.core.frame.DataFrame'>\n"
     ]
    }
   ],
   "source": [
    "df = pd.DataFrame({\n",
    "    'Age':[20,34,56,78],\n",
    "    'Name' : ['Ajay', 'Shin', 'Freddy', 'Michael']\n",
    "})\n",
    "print(df)\n",
    "print(type(df))"
   ]
  },
  {
   "cell_type": "markdown",
   "metadata": {},
   "source": [
    "A DataFrame has two indices - namely a `row index` and a `column index` "
   ]
  },
  {
   "cell_type": "code",
   "execution_count": 5,
   "metadata": {},
   "outputs": [
    {
     "name": "stdout",
     "output_type": "stream",
     "text": [
      "The row indices of the above dataframe is : RangeIndex(start=0, stop=4, step=1)\n",
      "The coumn indices of the above dataframe is : Index(['Age', 'Name'], dtype='object')\n"
     ]
    }
   ],
   "source": [
    "# row index \n",
    "print(f'The row indices of the above dataframe is : {df.index}')\n",
    "\n",
    "#column index \n",
    "print(f\"The coumn indices of the above dataframe is : {df.columns}\")"
   ]
  },
  {
   "cell_type": "markdown",
   "metadata": {},
   "source": [
    "### B.1.1 DataFrame as a specialized Dictionary\n",
    "\n",
    "- A dictionary maps the key to the value, while the DataFrame maps a column name to a `Series` of columnar data"
   ]
  },
  {
   "cell_type": "code",
   "execution_count": 6,
   "metadata": {},
   "outputs": [
    {
     "data": {
      "text/plain": [
       "0    20\n",
       "1    34\n",
       "2    56\n",
       "3    78\n",
       "Name: Age, dtype: int64"
      ]
     },
     "execution_count": 6,
     "metadata": {},
     "output_type": "execute_result"
    }
   ],
   "source": [
    "# df as a specialized dictionary\n",
    "df['Age']"
   ]
  },
  {
   "cell_type": "code",
   "execution_count": 7,
   "metadata": {},
   "outputs": [
    {
     "data": {
      "text/plain": [
       "pandas.core.series.Series"
      ]
     },
     "execution_count": 7,
     "metadata": {},
     "output_type": "execute_result"
    }
   ],
   "source": [
    "# type returned \n",
    "type(df[\"Age\"])"
   ]
  },
  {
   "cell_type": "markdown",
   "metadata": {},
   "source": [
    "## B.2 Creating DataFrame from Series "
   ]
  },
  {
   "cell_type": "code",
   "execution_count": 8,
   "metadata": {},
   "outputs": [
    {
     "name": "stdout",
     "output_type": "stream",
     "text": [
      "California      39538223\n",
      "Texas           29145505\n",
      "Florida         21538187\n",
      "New York        20201249\n",
      "Pennsylvania    13002700\n",
      "dtype: int64\n",
      "<class 'pandas.core.series.Series'>\n",
      "\n",
      "\n",
      "              Population\n",
      "California      39538223\n",
      "Texas           29145505\n",
      "Florida         21538187\n",
      "New York        20201249\n",
      "Pennsylvania    13002700\n",
      "<class 'pandas.core.frame.DataFrame'>\n"
     ]
    }
   ],
   "source": [
    "population_dict = {'California': 39538223, 'Texas': 29145505, \n",
    "                   'Florida': 21538187, 'New York': 20201249, \n",
    "                   'Pennsylvania': 13002700}\n",
    "\n",
    "population_series = pd.Series(population_dict)\n",
    "print(population_series)\n",
    "print(type(population_series))\n",
    "\n",
    "print('\\n')\n",
    "\n",
    "population_df = pd.DataFrame(population_series, \n",
    "                             columns=['Population'])\n",
    "print(population_df)\n",
    "print(type(population_df))"
   ]
  },
  {
   "cell_type": "markdown",
   "metadata": {},
   "source": [
    "## B.3 Creating DataFrame from a list of dictionary"
   ]
  },
  {
   "cell_type": "code",
   "execution_count": 9,
   "metadata": {},
   "outputs": [
    {
     "data": {
      "text/html": [
       "<div>\n",
       "<style scoped>\n",
       "    .dataframe tbody tr th:only-of-type {\n",
       "        vertical-align: middle;\n",
       "    }\n",
       "\n",
       "    .dataframe tbody tr th {\n",
       "        vertical-align: top;\n",
       "    }\n",
       "\n",
       "    .dataframe thead th {\n",
       "        text-align: right;\n",
       "    }\n",
       "</style>\n",
       "<table border=\"1\" class=\"dataframe\">\n",
       "  <thead>\n",
       "    <tr style=\"text-align: right;\">\n",
       "      <th></th>\n",
       "      <th>country</th>\n",
       "      <th>rank</th>\n",
       "    </tr>\n",
       "  </thead>\n",
       "  <tbody>\n",
       "    <tr>\n",
       "      <th>0</th>\n",
       "      <td>India</td>\n",
       "      <td>23</td>\n",
       "    </tr>\n",
       "    <tr>\n",
       "      <th>1</th>\n",
       "      <td>China</td>\n",
       "      <td>2</td>\n",
       "    </tr>\n",
       "    <tr>\n",
       "      <th>2</th>\n",
       "      <td>USA</td>\n",
       "      <td>1</td>\n",
       "    </tr>\n",
       "    <tr>\n",
       "      <th>3</th>\n",
       "      <td>Japan</td>\n",
       "      <td>10</td>\n",
       "    </tr>\n",
       "    <tr>\n",
       "      <th>4</th>\n",
       "      <td>UK</td>\n",
       "      <td>15</td>\n",
       "    </tr>\n",
       "    <tr>\n",
       "      <th>5</th>\n",
       "      <td>Taiwan</td>\n",
       "      <td>30</td>\n",
       "    </tr>\n",
       "    <tr>\n",
       "      <th>6</th>\n",
       "      <td>Bangladesh</td>\n",
       "      <td>50</td>\n",
       "    </tr>\n",
       "  </tbody>\n",
       "</table>\n",
       "</div>"
      ],
      "text/plain": [
       "      country  rank\n",
       "0       India    23\n",
       "1       China     2\n",
       "2         USA     1\n",
       "3       Japan    10\n",
       "4          UK    15\n",
       "5      Taiwan    30\n",
       "6  Bangladesh    50"
      ]
     },
     "execution_count": 9,
     "metadata": {},
     "output_type": "execute_result"
    }
   ],
   "source": [
    "# consider a list of dictionary\n",
    "list_dict = [\n",
    "    {'country':'India', 'rank':23},\n",
    "    {'country':'China', 'rank':2},\n",
    "    {'country':'USA', 'rank':1},\n",
    "    {'country':'Japan', 'rank':10},\n",
    "    {'country':'UK', 'rank':15},\n",
    "    {'country':'Taiwan', 'rank':30},\n",
    "    {'country':'Bangladesh', 'rank':50}\n",
    "]\n",
    "\n",
    "# convert this to df\n",
    "df_new = pd.DataFrame(list_dict)\n",
    "df_new"
   ]
  },
  {
   "cell_type": "markdown",
   "metadata": {},
   "source": [
    "## B.4 Creating DataFrame from a 2D NumPy array"
   ]
  },
  {
   "cell_type": "code",
   "execution_count": 6,
   "metadata": {},
   "outputs": [
    {
     "name": "stdout",
     "output_type": "stream",
     "text": [
      "The NumPy array is:\n",
      "[[ 9 14  4  1]\n",
      " [ 8 12  2 14]\n",
      " [ 9  6  8 12]\n",
      " [13 14  2  3]]\n",
      "The converted dataframe is:\n",
      "        A   B  C   D\n",
      "Row 1   9  14  4   1\n",
      "Row 2   8  12  2  14\n",
      "Row 3   9   6  8  12\n",
      "Row 4  13  14  2   3\n",
      "The converted numpy array is :\n",
      "[[ 9 14  4  1]\n",
      " [ 8 12  2 14]\n",
      " [ 9  6  8 12]\n",
      " [13 14  2  3]]\n"
     ]
    }
   ],
   "source": [
    "# create a 2d numpy array\n",
    "import numpy as np \n",
    "\n",
    "arr_numpy = np.random.randint(15, size=(4,4))\n",
    "print(f'The NumPy array is:\\n{arr_numpy}')\n",
    "\n",
    "# convert this to a df\n",
    "df_from_numpy = pd.DataFrame(data= arr_numpy,\n",
    "                             columns=['A','B','C','D'],\n",
    "                             index=['Row 1', 'Row 2', 'Row 3', 'Row 4'])\n",
    "\n",
    "print(f'The converted dataframe is:\\n{df_from_numpy}')\n",
    "\n",
    "# let us now convert thos df to a numpy object again\n",
    "arr_numpy_from_df = df_from_numpy.to_numpy()\n",
    "print(f'The converted numpy array is :\\n{arr_numpy_from_df}')"
   ]
  },
  {
   "cell_type": "markdown",
   "metadata": {},
   "source": [
    "## B.5 DataFrame as a series of aligned Series objects"
   ]
  },
  {
   "cell_type": "code",
   "execution_count": 7,
   "metadata": {},
   "outputs": [
    {
     "data": {
      "text/html": [
       "<div>\n",
       "<style scoped>\n",
       "    .dataframe tbody tr th:only-of-type {\n",
       "        vertical-align: middle;\n",
       "    }\n",
       "\n",
       "    .dataframe tbody tr th {\n",
       "        vertical-align: top;\n",
       "    }\n",
       "\n",
       "    .dataframe thead th {\n",
       "        text-align: right;\n",
       "    }\n",
       "</style>\n",
       "<table border=\"1\" class=\"dataframe\">\n",
       "  <thead>\n",
       "    <tr style=\"text-align: right;\">\n",
       "      <th></th>\n",
       "      <th>population</th>\n",
       "      <th>area</th>\n",
       "    </tr>\n",
       "  </thead>\n",
       "  <tbody>\n",
       "    <tr>\n",
       "      <th>California</th>\n",
       "      <td>39538223</td>\n",
       "      <td>423967</td>\n",
       "    </tr>\n",
       "    <tr>\n",
       "      <th>Texas</th>\n",
       "      <td>29145505</td>\n",
       "      <td>695662</td>\n",
       "    </tr>\n",
       "    <tr>\n",
       "      <th>Florida</th>\n",
       "      <td>21538187</td>\n",
       "      <td>170312</td>\n",
       "    </tr>\n",
       "    <tr>\n",
       "      <th>New York</th>\n",
       "      <td>20201249</td>\n",
       "      <td>141297</td>\n",
       "    </tr>\n",
       "    <tr>\n",
       "      <th>Pennsylvania</th>\n",
       "      <td>13002700</td>\n",
       "      <td>119280</td>\n",
       "    </tr>\n",
       "  </tbody>\n",
       "</table>\n",
       "</div>"
      ],
      "text/plain": [
       "              population    area\n",
       "California      39538223  423967\n",
       "Texas           29145505  695662\n",
       "Florida         21538187  170312\n",
       "New York        20201249  141297\n",
       "Pennsylvania    13002700  119280"
      ]
     },
     "execution_count": 7,
     "metadata": {},
     "output_type": "execute_result"
    }
   ],
   "source": [
    "population_dict = pd.Series({'California': 39538223, 'Texas': 29145505, \n",
    "                   'Florida': 21538187, 'New York': 20201249, \n",
    "                   'Pennsylvania': 13002700})\n",
    "\n",
    "area_dict = pd.Series({'California': 423967, 'Texas': 695662, 'Florida': 170312, \n",
    "             'New York': 141297, 'Pennsylvania': 119280})\n",
    "\n",
    "states = pd.DataFrame({\n",
    "    'population': population_dict,\n",
    "    'area': area_dict\n",
    "}) # think states as a combination of two aligned series objects \n",
    "states"
   ]
  },
  {
   "cell_type": "code",
   "execution_count": 8,
   "metadata": {},
   "outputs": [
    {
     "name": "stdout",
     "output_type": "stream",
     "text": [
      "[[39538223   423967]\n",
      " [29145505   695662]\n",
      " [21538187   170312]\n",
      " [20201249   141297]\n",
      " [13002700   119280]]\n"
     ]
    }
   ],
   "source": [
    "# What are the values \n",
    "print(states.values) # presented in a numpy array "
   ]
  },
  {
   "cell_type": "markdown",
   "metadata": {},
   "source": [
    "## B.6 Creating DataFrame from a NumPy structured array"
   ]
  },
  {
   "cell_type": "code",
   "execution_count": 15,
   "metadata": {},
   "outputs": [],
   "source": [
    "# later "
   ]
  },
  {
   "cell_type": "markdown",
   "metadata": {},
   "source": [
    "# C. Pandas Index Object\n",
    "\n",
    "- Both `Series` and `DataFrame` objects have explicit indices. \n",
    "- `Index` object is a very interesting structure and can be thought of as an ***immutable array or a ordered set(although the `Index` objects may have repeated values)***"
   ]
  },
  {
   "cell_type": "code",
   "execution_count": null,
   "metadata": {},
   "outputs": [
    {
     "name": "stdout",
     "output_type": "stream",
     "text": [
      "Index([1, 3, 5, 7, 9, 11], dtype='int64')\n",
      "5\n",
      "Index([1, 3], dtype='int64')\n",
      "6 (6,) 1 int64\n"
     ]
    },
    {
     "ename": "TypeError",
     "evalue": "Index does not support mutable operations",
     "output_type": "error",
     "traceback": [
      "\u001b[1;31m---------------------------------------------------------------------------\u001b[0m",
      "\u001b[1;31mTypeError\u001b[0m                                 Traceback (most recent call last)",
      "Cell \u001b[1;32mIn[20], line 15\u001b[0m\n\u001b[0;32m     12\u001b[0m \u001b[38;5;28mprint\u001b[39m(index\u001b[38;5;241m.\u001b[39msize, index\u001b[38;5;241m.\u001b[39mshape, index\u001b[38;5;241m.\u001b[39mndim, index\u001b[38;5;241m.\u001b[39mdtype)\n\u001b[0;32m     14\u001b[0m \u001b[38;5;66;03m# however the index is not mutable \u001b[39;00m\n\u001b[1;32m---> 15\u001b[0m index[\u001b[38;5;241m2\u001b[39m] \u001b[38;5;241m=\u001b[39m \u001b[38;5;241m10\u001b[39m\n",
      "File \u001b[1;32md:\\anaconda3\\Lib\\site-packages\\pandas\\core\\indexes\\base.py:5348\u001b[0m, in \u001b[0;36mIndex.__setitem__\u001b[1;34m(self, key, value)\u001b[0m\n\u001b[0;32m   5346\u001b[0m \u001b[38;5;129m@final\u001b[39m\n\u001b[0;32m   5347\u001b[0m \u001b[38;5;28;01mdef\u001b[39;00m \u001b[38;5;21m__setitem__\u001b[39m(\u001b[38;5;28mself\u001b[39m, key, value) \u001b[38;5;241m-\u001b[39m\u001b[38;5;241m>\u001b[39m \u001b[38;5;28;01mNone\u001b[39;00m:\n\u001b[1;32m-> 5348\u001b[0m     \u001b[38;5;28;01mraise\u001b[39;00m \u001b[38;5;167;01mTypeError\u001b[39;00m(\u001b[38;5;124m\"\u001b[39m\u001b[38;5;124mIndex does not support mutable operations\u001b[39m\u001b[38;5;124m\"\u001b[39m)\n",
      "\u001b[1;31mTypeError\u001b[0m: Index does not support mutable operations"
     ]
    }
   ],
   "source": [
    "# let us create a index object \n",
    "index = pd.Index([1,3,5,7,9,11])\n",
    "print(index)\n",
    "\n",
    "# index as a immutable array\n",
    "\n",
    "# like arrays they can be accessed using python indexing or slicing \n",
    "print(index[2]) # 5\n",
    "print(index[:2]) # [1,3]\n",
    "\n",
    "# it also has many attributes common to NumPy array\n",
    "print(index.size, index.shape, index.ndim, index.dtype)\n",
    "\n",
    "# however the index is not mutable \n",
    "index[2] = 10 # error!"
   ]
  },
  {
   "cell_type": "code",
   "execution_count": 22,
   "metadata": {},
   "outputs": [
    {
     "name": "stdout",
     "output_type": "stream",
     "text": [
      "Index([1, 3, 5], dtype='int64')\n",
      "Index([1, 2, 3, 5, 7, 8, 9, 10, 11], dtype='int64')\n",
      "Index([2, 7, 8, 9, 10, 11], dtype='int64')\n"
     ]
    }
   ],
   "source": [
    "# index as ordered sets \n",
    "\n",
    "index_1 = pd.Index([1,3,5,7,9,11])\n",
    "index_2 = pd.Index([1,3,5,2,8,10])\n",
    "\n",
    "print(index_1.intersection(index_2))\n",
    "print(index_1.union(index_2))\n",
    "print(index_1.symmetric_difference(index_2))"
   ]
  },
  {
   "cell_type": "markdown",
   "metadata": {},
   "source": [
    "END!"
   ]
  }
 ],
 "metadata": {
  "kernelspec": {
   "display_name": "base",
   "language": "python",
   "name": "python3"
  },
  "language_info": {
   "codemirror_mode": {
    "name": "ipython",
    "version": 3
   },
   "file_extension": ".py",
   "mimetype": "text/x-python",
   "name": "python",
   "nbconvert_exporter": "python",
   "pygments_lexer": "ipython3",
   "version": "3.11.7"
  }
 },
 "nbformat": 4,
 "nbformat_minor": 2
}
